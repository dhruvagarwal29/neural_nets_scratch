{
 "cells": [
  {
   "cell_type": "code",
   "execution_count": 1,
   "metadata": {},
   "outputs": [],
   "source": [
    "import torch\n",
    "import torch.nn.functional as F\n",
    "import matplotlib.pyplot as plt # for obviously figures kidding\n",
    "%matplotlib inline"
   ]
  },
  {
   "cell_type": "code",
   "execution_count": 2,
   "metadata": {},
   "outputs": [
    {
     "data": {
      "text/plain": [
       "['emma', 'olivia', 'ava', 'isabella', 'sophia', 'charlotte', 'mia', 'amelia']"
      ]
     },
     "execution_count": 2,
     "metadata": {},
     "output_type": "execute_result"
    }
   ],
   "source": [
    "# read all the data from the names\n",
    "\n",
    "words = open('names.txt', 'r').read().splitlines()\n",
    "words[:8]"
   ]
  },
  {
   "cell_type": "code",
   "execution_count": 3,
   "metadata": {},
   "outputs": [
    {
     "data": {
      "text/plain": [
       "32033"
      ]
     },
     "execution_count": 3,
     "metadata": {},
     "output_type": "execute_result"
    }
   ],
   "source": [
    "len(words)"
   ]
  },
  {
   "cell_type": "code",
   "execution_count": 14,
   "metadata": {},
   "outputs": [
    {
     "name": "stdout",
     "output_type": "stream",
     "text": [
      "{1: 'a', 2: 'b', 3: 'c', 4: 'd', 5: 'e', 6: 'f', 7: 'g', 8: 'h', 9: 'i', 10: 'j', 11: 'k', 12: 'l', 13: 'm', 14: 'n', 15: 'o', 16: 'p', 17: 'q', 18: 'r', 19: 's', 20: 't', 21: 'u', 22: 'v', 23: 'w', 24: 'x', 25: 'y', 26: 'z', 0: '.'}\n"
     ]
    }
   ],
   "source": [
    "# build the vocabulary of characters and mapping to/from integers \n",
    "\n",
    "chars = sorted(set(\"\".join(words)))\n",
    "\n",
    "stoi = {s:i+1 for i,s in enumerate(chars)}\n",
    "stoi[\".\"] = 0\n",
    "itos = {i:s for s,i in stoi.items()}\n",
    "print(itos)"
   ]
  },
  {
   "cell_type": "markdown",
   "metadata": {},
   "source": [
    "#### We are going to follow the Bengio MLP paper 2003 (https://www.jmlr.org/papers/volume3/bengio03a/bengio03a.pdf)"
   ]
  },
  {
   "cell_type": "code",
   "execution_count": 226,
   "metadata": {},
   "outputs": [
    {
     "name": "stdout",
     "output_type": "stream",
     "text": [
      "emma\n",
      "... ---> e\n",
      "..e ---> m\n",
      ".em ---> m\n",
      "emm ---> a\n",
      "mma ---> .\n",
      "olivia\n",
      "... ---> o\n",
      "..o ---> l\n",
      ".ol ---> i\n",
      "oli ---> v\n",
      "liv ---> i\n",
      "ivi ---> a\n",
      "via ---> .\n",
      "ava\n",
      "... ---> a\n",
      "..a ---> v\n",
      ".av ---> a\n",
      "ava ---> .\n",
      "isabella\n",
      "... ---> i\n",
      "..i ---> s\n",
      ".is ---> a\n",
      "isa ---> b\n",
      "sab ---> e\n",
      "abe ---> l\n",
      "bel ---> l\n",
      "ell ---> a\n",
      "lla ---> .\n",
      "sophia\n",
      "... ---> s\n",
      "..s ---> o\n",
      ".so ---> p\n",
      "sop ---> h\n",
      "oph ---> i\n",
      "phi ---> a\n",
      "hia ---> .\n"
     ]
    }
   ],
   "source": [
    "# build the dataset \n",
    "\n",
    "block_size = 3 # context length: how many characters do we take to predict the next one?\n",
    "X, Y = [], []\n",
    "for w in words[:5]:\n",
    "    print(w)\n",
    "    context = [0] * block_size\n",
    "    \n",
    "    for ch in w + \".\":\n",
    "        index = stoi[ch]\n",
    "        X.append(context)\n",
    "        Y.append(index)\n",
    "        print(\"\".join(itos[i] for i in context), '--->', itos[index])\n",
    "        context = context[1:] + [index] # crop and append\n",
    "\n",
    "X = torch.tensor(X)\n",
    "Y = torch.tensor(Y)\n",
    "        "
   ]
  },
  {
   "cell_type": "code",
   "execution_count": 17,
   "metadata": {},
   "outputs": [
    {
     "data": {
      "text/plain": [
       "(torch.Size([32, 3]), torch.int64, torch.Size([32]), torch.int64)"
      ]
     },
     "execution_count": 17,
     "metadata": {},
     "output_type": "execute_result"
    }
   ],
   "source": [
    "X.shape, X.dtype, Y.shape, Y.dtype"
   ]
  },
  {
   "cell_type": "code",
   "execution_count": 27,
   "metadata": {},
   "outputs": [
    {
     "data": {
      "text/plain": [
       "tensor([[ 0,  0,  0],\n",
       "        [ 0,  0,  5],\n",
       "        [ 0,  5, 13],\n",
       "        [ 5, 13, 13],\n",
       "        [13, 13,  1],\n",
       "        [ 0,  0,  0],\n",
       "        [ 0,  0, 15],\n",
       "        [ 0, 15, 12],\n",
       "        [15, 12,  9],\n",
       "        [12,  9, 22],\n",
       "        [ 9, 22,  9],\n",
       "        [22,  9,  1],\n",
       "        [ 0,  0,  0],\n",
       "        [ 0,  0,  1],\n",
       "        [ 0,  1, 22],\n",
       "        [ 1, 22,  1],\n",
       "        [ 0,  0,  0],\n",
       "        [ 0,  0,  9],\n",
       "        [ 0,  9, 19],\n",
       "        [ 9, 19,  1],\n",
       "        [19,  1,  2],\n",
       "        [ 1,  2,  5],\n",
       "        [ 2,  5, 12],\n",
       "        [ 5, 12, 12],\n",
       "        [12, 12,  1],\n",
       "        [ 0,  0,  0],\n",
       "        [ 0,  0, 19],\n",
       "        [ 0, 19, 15],\n",
       "        [19, 15, 16],\n",
       "        [15, 16,  8],\n",
       "        [16,  8,  9],\n",
       "        [ 8,  9,  1]])"
      ]
     },
     "execution_count": 27,
     "metadata": {},
     "output_type": "execute_result"
    }
   ],
   "source": [
    "X"
   ]
  },
  {
   "cell_type": "code",
   "execution_count": 19,
   "metadata": {},
   "outputs": [],
   "source": [
    "#building lookup table C according to the paper\n",
    "\n",
    "\"\"\" in paper they have embed 17000 words in 30 dimensonal space we have to do something similar so we are \n",
    " embedding 27 words in somewhat 2 dimensional embeddings\"\"\"\n",
    "C = torch.randn((27, 2))"
   ]
  },
  {
   "cell_type": "code",
   "execution_count": 26,
   "metadata": {},
   "outputs": [
    {
     "data": {
      "text/plain": [
       "tensor([[ 0.5663,  1.4493],\n",
       "        [-0.1540,  0.7652],\n",
       "        [ 0.2312,  0.2028],\n",
       "        [-0.3509,  0.9301],\n",
       "        [-0.4913, -0.1498],\n",
       "        [ 1.4252, -1.3235],\n",
       "        [ 1.4126,  0.2786],\n",
       "        [-0.2925,  0.2125],\n",
       "        [ 1.3941, -0.4849],\n",
       "        [ 1.1180,  0.5706],\n",
       "        [ 0.9935, -1.0333],\n",
       "        [-1.2777,  0.8449],\n",
       "        [-1.8361,  0.6212],\n",
       "        [ 1.9288, -0.6171],\n",
       "        [-1.9805, -0.1902],\n",
       "        [ 0.6201, -1.0412],\n",
       "        [ 0.7796,  0.8651],\n",
       "        [ 0.5022,  0.0539],\n",
       "        [-0.5302, -0.7019],\n",
       "        [ 0.1714, -0.6367],\n",
       "        [-0.8148, -0.5858],\n",
       "        [ 0.4796, -0.5771],\n",
       "        [-0.5374,  0.3974],\n",
       "        [-0.2960,  0.3873],\n",
       "        [ 0.5488, -0.9545],\n",
       "        [-1.1822,  1.1971],\n",
       "        [-0.7106, -1.9700]])"
      ]
     },
     "execution_count": 26,
     "metadata": {},
     "output_type": "execute_result"
    }
   ],
   "source": [
    "C"
   ]
  },
  {
   "cell_type": "code",
   "execution_count": 21,
   "metadata": {},
   "outputs": [
    {
     "data": {
      "text/plain": [
       "tensor([ 1.4252, -1.3235])"
      ]
     },
     "execution_count": 21,
     "metadata": {},
     "output_type": "execute_result"
    }
   ],
   "source": [
    "C[5]"
   ]
  },
  {
   "cell_type": "code",
   "execution_count": 24,
   "metadata": {},
   "outputs": [
    {
     "data": {
      "text/plain": [
       "tensor([ 1.4252, -1.3235])"
      ]
     },
     "execution_count": 24,
     "metadata": {},
     "output_type": "execute_result"
    }
   ],
   "source": [
    "# what we did in previous makeover lecture is we encode these using one hot vector and matrix multiplied with the\n",
    "# 5th row which is going to be 1\n",
    "\n",
    "F.one_hot(torch.tensor(5), num_classes= 27).float() @ C\n",
    "\n",
    "# .float because it gives long(int64) as output and for matrix multiplicaiton we need flaoat"
   ]
  },
  {
   "cell_type": "raw",
   "metadata": {},
   "source": [
    "This is kinda of less efficient than just indexing like C[5]"
   ]
  },
  {
   "cell_type": "code",
   "execution_count": 30,
   "metadata": {},
   "outputs": [
    {
     "data": {
      "text/plain": [
       "tensor([[ 1.4252, -1.3235],\n",
       "        [ 1.4126,  0.2786],\n",
       "        [-0.2925,  0.2125]])"
      ]
     },
     "execution_count": 30,
     "metadata": {},
     "output_type": "execute_result"
    }
   ],
   "source": [
    "# indexing in python is powerful, we can index X in C\n",
    "\n",
    "# we can get the row 5,6,7 from C\n",
    "\n",
    "C[[5,6,7]]"
   ]
  },
  {
   "cell_type": "code",
   "execution_count": 33,
   "metadata": {},
   "outputs": [
    {
     "data": {
      "text/plain": [
       "tensor([[ 1.4252, -1.3235],\n",
       "        [ 1.4126,  0.2786],\n",
       "        [-0.2925,  0.2125]])"
      ]
     },
     "execution_count": 33,
     "metadata": {},
     "output_type": "execute_result"
    }
   ],
   "source": [
    "# indexing can be done on tensors as well not only on list\n",
    "\n",
    "C[torch.tensor([5,6,7])]"
   ]
  },
  {
   "cell_type": "code",
   "execution_count": 34,
   "metadata": {},
   "outputs": [
    {
     "data": {
      "text/plain": [
       "tensor([[ 1.4252, -1.3235],\n",
       "        [ 1.4126,  0.2786],\n",
       "        [ 1.4126,  0.2786],\n",
       "        [-0.2925,  0.2125],\n",
       "        [-0.2925,  0.2125]])"
      ]
     },
     "execution_count": 34,
     "metadata": {},
     "output_type": "execute_result"
    }
   ],
   "source": [
    "# we can ge the copies of those row in it too\n",
    "\n",
    "\n",
    "C[torch.tensor([5,6,6,7,7])]"
   ]
  },
  {
   "cell_type": "code",
   "execution_count": 44,
   "metadata": {},
   "outputs": [
    {
     "data": {
      "text/plain": [
       "tensor([[[ 1.4252, -1.3235],\n",
       "         [ 1.4126,  0.2786],\n",
       "         [-0.2925,  0.2125]],\n",
       "\n",
       "        [[ 1.4252, -1.3235],\n",
       "         [ 1.4126,  0.2786],\n",
       "         [-0.2925,  0.2125]]])"
      ]
     },
     "execution_count": 44,
     "metadata": {},
     "output_type": "execute_result"
    }
   ],
   "source": [
    "# we can get 2 D indexing as well, here we can see than C is index on 2D tensor also\n",
    "\n",
    "C[torch.tensor([[5,6,7],[5,6,7]])]"
   ]
  },
  {
   "cell_type": "code",
   "execution_count": 45,
   "metadata": {},
   "outputs": [
    {
     "data": {
      "text/plain": [
       "tensor([[[ 0.5663,  1.4493],\n",
       "         [ 0.5663,  1.4493],\n",
       "         [ 0.5663,  1.4493]],\n",
       "\n",
       "        [[ 0.5663,  1.4493],\n",
       "         [ 0.5663,  1.4493],\n",
       "         [ 1.4252, -1.3235]],\n",
       "\n",
       "        [[ 0.5663,  1.4493],\n",
       "         [ 1.4252, -1.3235],\n",
       "         [ 1.9288, -0.6171]],\n",
       "\n",
       "        [[ 1.4252, -1.3235],\n",
       "         [ 1.9288, -0.6171],\n",
       "         [ 1.9288, -0.6171]],\n",
       "\n",
       "        [[ 1.9288, -0.6171],\n",
       "         [ 1.9288, -0.6171],\n",
       "         [-0.1540,  0.7652]],\n",
       "\n",
       "        [[ 0.5663,  1.4493],\n",
       "         [ 0.5663,  1.4493],\n",
       "         [ 0.5663,  1.4493]],\n",
       "\n",
       "        [[ 0.5663,  1.4493],\n",
       "         [ 0.5663,  1.4493],\n",
       "         [ 0.6201, -1.0412]],\n",
       "\n",
       "        [[ 0.5663,  1.4493],\n",
       "         [ 0.6201, -1.0412],\n",
       "         [-1.8361,  0.6212]],\n",
       "\n",
       "        [[ 0.6201, -1.0412],\n",
       "         [-1.8361,  0.6212],\n",
       "         [ 1.1180,  0.5706]],\n",
       "\n",
       "        [[-1.8361,  0.6212],\n",
       "         [ 1.1180,  0.5706],\n",
       "         [-0.5374,  0.3974]],\n",
       "\n",
       "        [[ 1.1180,  0.5706],\n",
       "         [-0.5374,  0.3974],\n",
       "         [ 1.1180,  0.5706]],\n",
       "\n",
       "        [[-0.5374,  0.3974],\n",
       "         [ 1.1180,  0.5706],\n",
       "         [-0.1540,  0.7652]],\n",
       "\n",
       "        [[ 0.5663,  1.4493],\n",
       "         [ 0.5663,  1.4493],\n",
       "         [ 0.5663,  1.4493]],\n",
       "\n",
       "        [[ 0.5663,  1.4493],\n",
       "         [ 0.5663,  1.4493],\n",
       "         [-0.1540,  0.7652]],\n",
       "\n",
       "        [[ 0.5663,  1.4493],\n",
       "         [-0.1540,  0.7652],\n",
       "         [-0.5374,  0.3974]],\n",
       "\n",
       "        [[-0.1540,  0.7652],\n",
       "         [-0.5374,  0.3974],\n",
       "         [-0.1540,  0.7652]],\n",
       "\n",
       "        [[ 0.5663,  1.4493],\n",
       "         [ 0.5663,  1.4493],\n",
       "         [ 0.5663,  1.4493]],\n",
       "\n",
       "        [[ 0.5663,  1.4493],\n",
       "         [ 0.5663,  1.4493],\n",
       "         [ 1.1180,  0.5706]],\n",
       "\n",
       "        [[ 0.5663,  1.4493],\n",
       "         [ 1.1180,  0.5706],\n",
       "         [ 0.1714, -0.6367]],\n",
       "\n",
       "        [[ 1.1180,  0.5706],\n",
       "         [ 0.1714, -0.6367],\n",
       "         [-0.1540,  0.7652]],\n",
       "\n",
       "        [[ 0.1714, -0.6367],\n",
       "         [-0.1540,  0.7652],\n",
       "         [ 0.2312,  0.2028]],\n",
       "\n",
       "        [[-0.1540,  0.7652],\n",
       "         [ 0.2312,  0.2028],\n",
       "         [ 1.4252, -1.3235]],\n",
       "\n",
       "        [[ 0.2312,  0.2028],\n",
       "         [ 1.4252, -1.3235],\n",
       "         [-1.8361,  0.6212]],\n",
       "\n",
       "        [[ 1.4252, -1.3235],\n",
       "         [-1.8361,  0.6212],\n",
       "         [-1.8361,  0.6212]],\n",
       "\n",
       "        [[-1.8361,  0.6212],\n",
       "         [-1.8361,  0.6212],\n",
       "         [-0.1540,  0.7652]],\n",
       "\n",
       "        [[ 0.5663,  1.4493],\n",
       "         [ 0.5663,  1.4493],\n",
       "         [ 0.5663,  1.4493]],\n",
       "\n",
       "        [[ 0.5663,  1.4493],\n",
       "         [ 0.5663,  1.4493],\n",
       "         [ 0.1714, -0.6367]],\n",
       "\n",
       "        [[ 0.5663,  1.4493],\n",
       "         [ 0.1714, -0.6367],\n",
       "         [ 0.6201, -1.0412]],\n",
       "\n",
       "        [[ 0.1714, -0.6367],\n",
       "         [ 0.6201, -1.0412],\n",
       "         [ 0.7796,  0.8651]],\n",
       "\n",
       "        [[ 0.6201, -1.0412],\n",
       "         [ 0.7796,  0.8651],\n",
       "         [ 1.3941, -0.4849]],\n",
       "\n",
       "        [[ 0.7796,  0.8651],\n",
       "         [ 1.3941, -0.4849],\n",
       "         [ 1.1180,  0.5706]],\n",
       "\n",
       "        [[ 1.3941, -0.4849],\n",
       "         [ 1.1180,  0.5706],\n",
       "         [-0.1540,  0.7652]]])"
      ]
     },
     "execution_count": 45,
     "metadata": {},
     "output_type": "execute_result"
    }
   ],
   "source": [
    "# so we can index on X as well \n",
    "C[X]"
   ]
  },
  {
   "cell_type": "code",
   "execution_count": 46,
   "metadata": {},
   "outputs": [
    {
     "data": {
      "text/plain": [
       "torch.Size([32, 3, 2])"
      ]
     },
     "execution_count": 46,
     "metadata": {},
     "output_type": "execute_result"
    }
   ],
   "source": [
    "C[X].shape"
   ]
  },
  {
   "cell_type": "markdown",
   "metadata": {},
   "source": [
    "##### so this is a 32 by 3 vector which is original shape of X after that we retrieve the embedding vector for that value from C"
   ]
  },
  {
   "cell_type": "code",
   "execution_count": 47,
   "metadata": {},
   "outputs": [
    {
     "data": {
      "text/plain": [
       "tensor(1)"
      ]
     },
     "execution_count": 47,
     "metadata": {},
     "output_type": "execute_result"
    }
   ],
   "source": [
    "# for example take X[13, 2] -> 13 rows at 2nd colums of X \n",
    "X[13,2]"
   ]
  },
  {
   "cell_type": "code",
   "execution_count": 48,
   "metadata": {},
   "outputs": [
    {
     "data": {
      "text/plain": [
       "tensor([-0.1540,  0.7652])"
      ]
     },
     "execution_count": 48,
     "metadata": {},
     "output_type": "execute_result"
    }
   ],
   "source": [
    "# now if we check what are the values at C indexed X at 13 by 2 \n",
    "\n",
    "C[X][13,2]"
   ]
  },
  {
   "cell_type": "code",
   "execution_count": 49,
   "metadata": {},
   "outputs": [
    {
     "data": {
      "text/plain": [
       "tensor([-0.1540,  0.7652])"
      ]
     },
     "execution_count": 49,
     "metadata": {},
     "output_type": "execute_result"
    }
   ],
   "source": [
    "# now if we verify at integer 1 which is given to us X[13,2] at C is same as C[X][13,2]\n",
    "C[1]"
   ]
  },
  {
   "cell_type": "code",
   "execution_count": 50,
   "metadata": {},
   "outputs": [
    {
     "data": {
      "text/plain": [
       "torch.Size([32, 3, 2])"
      ]
     },
     "execution_count": 50,
     "metadata": {},
     "output_type": "execute_result"
    }
   ],
   "source": [
    "# so in a nutshell pytorch indexing is superpowerful now we can make our embeddings \n",
    "\n",
    "emb = C[X]\n",
    "emb.shape"
   ]
  },
  {
   "cell_type": "markdown",
   "metadata": {},
   "source": [
    "##### Making hidden layers "
   ]
  },
  {
   "cell_type": "code",
   "execution_count": 110,
   "metadata": {},
   "outputs": [],
   "source": [
    "# the input size for hidden layer would be 3*2 -> 6 as we have 3 layers giving 2 dimensional embeddings \n",
    "# weights \n",
    "W1 = torch.randn((6,100)) # 100 is just assumed no of neurons\n",
    "# bias\n",
    "b1 = torch.randn(100)"
   ]
  },
  {
   "cell_type": "code",
   "execution_count": 111,
   "metadata": {},
   "outputs": [
    {
     "ename": "RuntimeError",
     "evalue": "mat1 and mat2 shapes cannot be multiplied (96x2 and 6x100)",
     "output_type": "error",
     "traceback": [
      "\u001b[0;31m---------------------------------------------------------------------------\u001b[0m",
      "\u001b[0;31mRuntimeError\u001b[0m                              Traceback (most recent call last)",
      "Cell \u001b[0;32mIn[111], line 3\u001b[0m\n\u001b[1;32m      1\u001b[0m \u001b[38;5;66;03m# normally we do is, we take the inputs and multiply wiht weights and add the biases \u001b[39;00m\n\u001b[0;32m----> 3\u001b[0m \u001b[43memb\u001b[49m\u001b[43m \u001b[49m\u001b[38;5;241;43m@\u001b[39;49m\u001b[43m \u001b[49m\u001b[43mW1\u001b[49m \u001b[38;5;241m+\u001b[39m b1\n",
      "\u001b[0;31mRuntimeError\u001b[0m: mat1 and mat2 shapes cannot be multiplied (96x2 and 6x100)"
     ]
    }
   ],
   "source": [
    "# normally we do is, we take the inputs and multiply wiht weights and add the biases \n",
    "\n",
    "emb @ W1 + b1"
   ]
  },
  {
   "cell_type": "markdown",
   "metadata": {},
   "source": [
    "\"\"\" normally we do is, we take the inputs and multiply wiht weights and add the biases  but we can't do that as shape of emb = [32,3,2] and shape of W1 = [6,100], so we have to concatenate those 3 input\n",
    " layers together and made the shape along with biases\"\"\""
   ]
  },
  {
   "cell_type": "code",
   "execution_count": 54,
   "metadata": {},
   "outputs": [
    {
     "data": {
      "text/plain": [
       "tensor([[ 0.5663,  1.4493],\n",
       "        [ 0.5663,  1.4493],\n",
       "        [ 0.5663,  1.4493],\n",
       "        [ 1.4252, -1.3235],\n",
       "        [ 1.9288, -0.6171],\n",
       "        [ 0.5663,  1.4493],\n",
       "        [ 0.5663,  1.4493],\n",
       "        [ 0.5663,  1.4493],\n",
       "        [ 0.6201, -1.0412],\n",
       "        [-1.8361,  0.6212],\n",
       "        [ 1.1180,  0.5706],\n",
       "        [-0.5374,  0.3974],\n",
       "        [ 0.5663,  1.4493],\n",
       "        [ 0.5663,  1.4493],\n",
       "        [ 0.5663,  1.4493],\n",
       "        [-0.1540,  0.7652],\n",
       "        [ 0.5663,  1.4493],\n",
       "        [ 0.5663,  1.4493],\n",
       "        [ 0.5663,  1.4493],\n",
       "        [ 1.1180,  0.5706],\n",
       "        [ 0.1714, -0.6367],\n",
       "        [-0.1540,  0.7652],\n",
       "        [ 0.2312,  0.2028],\n",
       "        [ 1.4252, -1.3235],\n",
       "        [-1.8361,  0.6212],\n",
       "        [ 0.5663,  1.4493],\n",
       "        [ 0.5663,  1.4493],\n",
       "        [ 0.5663,  1.4493],\n",
       "        [ 0.1714, -0.6367],\n",
       "        [ 0.6201, -1.0412],\n",
       "        [ 0.7796,  0.8651],\n",
       "        [ 1.3941, -0.4849]])"
      ]
     },
     "execution_count": 54,
     "metadata": {},
     "output_type": "execute_result"
    }
   ],
   "source": [
    "# we have torch.cat to concatenate these layers\n",
    "\n",
    "emb[:, 0, :] # so this is the first layer of 32 by 2 "
   ]
  },
  {
   "cell_type": "code",
   "execution_count": 59,
   "metadata": {},
   "outputs": [
    {
     "data": {
      "text/plain": [
       "torch.Size([32, 6])"
      ]
     },
     "execution_count": 59,
     "metadata": {},
     "output_type": "execute_result"
    }
   ],
   "source": [
    "# now we need to concatenate all these 3 layers from emb \n",
    "\n",
    "torch.cat([emb[:, 0, :], emb[:, 1, :], emb[:, 2, :]], 1).shape\n",
    "\n",
    "## [emb[:, 0, :], emb[:, 1, :], emb[:, 2, :]] this is sequence of all the 3 layers and \n",
    "#1 is the dimension we need to concatenate towards\n"
   ]
  },
  {
   "cell_type": "markdown",
   "metadata": {},
   "source": [
    "\"\"\" but the above code would not generalize if we change the block size from 3 to 5 or some other number then we have to manually add these layers and concatenate them\"\"\""
   ]
  },
  {
   "cell_type": "code",
   "execution_count": 61,
   "metadata": {},
   "outputs": [
    {
     "data": {
      "text/plain": [
       "(tensor([[ 0.5663,  1.4493],\n",
       "         [ 0.5663,  1.4493],\n",
       "         [ 0.5663,  1.4493],\n",
       "         [ 1.4252, -1.3235],\n",
       "         [ 1.9288, -0.6171],\n",
       "         [ 0.5663,  1.4493],\n",
       "         [ 0.5663,  1.4493],\n",
       "         [ 0.5663,  1.4493],\n",
       "         [ 0.6201, -1.0412],\n",
       "         [-1.8361,  0.6212],\n",
       "         [ 1.1180,  0.5706],\n",
       "         [-0.5374,  0.3974],\n",
       "         [ 0.5663,  1.4493],\n",
       "         [ 0.5663,  1.4493],\n",
       "         [ 0.5663,  1.4493],\n",
       "         [-0.1540,  0.7652],\n",
       "         [ 0.5663,  1.4493],\n",
       "         [ 0.5663,  1.4493],\n",
       "         [ 0.5663,  1.4493],\n",
       "         [ 1.1180,  0.5706],\n",
       "         [ 0.1714, -0.6367],\n",
       "         [-0.1540,  0.7652],\n",
       "         [ 0.2312,  0.2028],\n",
       "         [ 1.4252, -1.3235],\n",
       "         [-1.8361,  0.6212],\n",
       "         [ 0.5663,  1.4493],\n",
       "         [ 0.5663,  1.4493],\n",
       "         [ 0.5663,  1.4493],\n",
       "         [ 0.1714, -0.6367],\n",
       "         [ 0.6201, -1.0412],\n",
       "         [ 0.7796,  0.8651],\n",
       "         [ 1.3941, -0.4849]]),\n",
       " tensor([[ 0.5663,  1.4493],\n",
       "         [ 0.5663,  1.4493],\n",
       "         [ 1.4252, -1.3235],\n",
       "         [ 1.9288, -0.6171],\n",
       "         [ 1.9288, -0.6171],\n",
       "         [ 0.5663,  1.4493],\n",
       "         [ 0.5663,  1.4493],\n",
       "         [ 0.6201, -1.0412],\n",
       "         [-1.8361,  0.6212],\n",
       "         [ 1.1180,  0.5706],\n",
       "         [-0.5374,  0.3974],\n",
       "         [ 1.1180,  0.5706],\n",
       "         [ 0.5663,  1.4493],\n",
       "         [ 0.5663,  1.4493],\n",
       "         [-0.1540,  0.7652],\n",
       "         [-0.5374,  0.3974],\n",
       "         [ 0.5663,  1.4493],\n",
       "         [ 0.5663,  1.4493],\n",
       "         [ 1.1180,  0.5706],\n",
       "         [ 0.1714, -0.6367],\n",
       "         [-0.1540,  0.7652],\n",
       "         [ 0.2312,  0.2028],\n",
       "         [ 1.4252, -1.3235],\n",
       "         [-1.8361,  0.6212],\n",
       "         [-1.8361,  0.6212],\n",
       "         [ 0.5663,  1.4493],\n",
       "         [ 0.5663,  1.4493],\n",
       "         [ 0.1714, -0.6367],\n",
       "         [ 0.6201, -1.0412],\n",
       "         [ 0.7796,  0.8651],\n",
       "         [ 1.3941, -0.4849],\n",
       "         [ 1.1180,  0.5706]]),\n",
       " tensor([[ 0.5663,  1.4493],\n",
       "         [ 1.4252, -1.3235],\n",
       "         [ 1.9288, -0.6171],\n",
       "         [ 1.9288, -0.6171],\n",
       "         [-0.1540,  0.7652],\n",
       "         [ 0.5663,  1.4493],\n",
       "         [ 0.6201, -1.0412],\n",
       "         [-1.8361,  0.6212],\n",
       "         [ 1.1180,  0.5706],\n",
       "         [-0.5374,  0.3974],\n",
       "         [ 1.1180,  0.5706],\n",
       "         [-0.1540,  0.7652],\n",
       "         [ 0.5663,  1.4493],\n",
       "         [-0.1540,  0.7652],\n",
       "         [-0.5374,  0.3974],\n",
       "         [-0.1540,  0.7652],\n",
       "         [ 0.5663,  1.4493],\n",
       "         [ 1.1180,  0.5706],\n",
       "         [ 0.1714, -0.6367],\n",
       "         [-0.1540,  0.7652],\n",
       "         [ 0.2312,  0.2028],\n",
       "         [ 1.4252, -1.3235],\n",
       "         [-1.8361,  0.6212],\n",
       "         [-1.8361,  0.6212],\n",
       "         [-0.1540,  0.7652],\n",
       "         [ 0.5663,  1.4493],\n",
       "         [ 0.1714, -0.6367],\n",
       "         [ 0.6201, -1.0412],\n",
       "         [ 0.7796,  0.8651],\n",
       "         [ 1.3941, -0.4849],\n",
       "         [ 1.1180,  0.5706],\n",
       "         [-0.1540,  0.7652]]))"
      ]
     },
     "execution_count": 61,
     "metadata": {},
     "output_type": "execute_result"
    }
   ],
   "source": [
    "# solution to that problem we have torch.unbind fucniton which will unbind these layers and then we can concatenate them\n",
    "\n",
    "# torch.unbind(input, dim=0) → seq\n",
    "\n",
    "torch.unbind(emb, 1)"
   ]
  },
  {
   "cell_type": "code",
   "execution_count": 67,
   "metadata": {},
   "outputs": [
    {
     "data": {
      "text/plain": [
       "torch.Size([32, 6])"
      ]
     },
     "execution_count": 67,
     "metadata": {},
     "output_type": "execute_result"
    }
   ],
   "source": [
    "# now we have 3 tensors unbinded and now we can concaternate them\n",
    "\n",
    "# so we unbind all the layers from emb across 1st dimension and concatenate these individual layers across 1st dim\n",
    "\n",
    "\n",
    "# this is inefficient as it creates a whole new memory to concatenate these layerss\n",
    "torch.cat(torch.unbind(emb,1),1).shape # this is general for any size of block size"
   ]
  },
  {
   "cell_type": "markdown",
   "metadata": {},
   "source": [
    "###### Torch.view a effective way to learn more about tensor storage in pytorch"
   ]
  },
  {
   "cell_type": "code",
   "execution_count": 81,
   "metadata": {},
   "outputs": [
    {
     "data": {
      "text/plain": [
       "tensor([ 0,  1,  2,  3,  4,  5,  6,  7,  8,  9, 10, 11, 12, 13, 14, 15, 16, 17])"
      ]
     },
     "execution_count": 81,
     "metadata": {},
     "output_type": "execute_result"
    }
   ],
   "source": [
    "# this is one way another way we can use torch.view\n",
    "\n",
    "# for example\n",
    "a = torch.arange(18)\n",
    "a"
   ]
  },
  {
   "cell_type": "code",
   "execution_count": 87,
   "metadata": {},
   "outputs": [
    {
     "name": "stdout",
     "output_type": "stream",
     "text": [
      "torch.Size([18])\n",
      "tensor([[ 0,  1,  2],\n",
      "        [ 3,  4,  5],\n",
      "        [ 6,  7,  8],\n",
      "        [ 9, 10, 11],\n",
      "        [12, 13, 14],\n",
      "        [15, 16, 17]])\n",
      "tensor([[[ 0,  1],\n",
      "         [ 2,  3],\n",
      "         [ 4,  5]],\n",
      "\n",
      "        [[ 6,  7],\n",
      "         [ 8,  9],\n",
      "         [10, 11]],\n",
      "\n",
      "        [[12, 13],\n",
      "         [14, 15],\n",
      "         [16, 17]]])\n"
     ]
    }
   ],
   "source": [
    "a.shape # here it is a single dimension tenosr of 18 columns but using view we can see it anyway\n",
    "print(a.shape)\n",
    "c = a.view(6,3) # here it is a 2D tensor\n",
    "print(c)\n",
    "d = a.view(3,3,2)\n",
    "print(d)"
   ]
  },
  {
   "cell_type": "code",
   "execution_count": 88,
   "metadata": {},
   "outputs": [
    {
     "data": {
      "text/plain": [
       " 0\n",
       " 1\n",
       " 2\n",
       " 3\n",
       " 4\n",
       " 5\n",
       " 6\n",
       " 7\n",
       " 8\n",
       " 9\n",
       " 10\n",
       " 11\n",
       " 12\n",
       " 13\n",
       " 14\n",
       " 15\n",
       " 16\n",
       " 17\n",
       "[torch.storage.TypedStorage(dtype=torch.int64, device=cpu) of size 18]"
      ]
     },
     "execution_count": 88,
     "metadata": {},
     "output_type": "execute_result"
    }
   ],
   "source": [
    "# thsi is how tensor are stored and through the help of strides we interpret them as multidimensional\n",
    "# more about this is in the blog = http://blog.ezyang.com/2019/05/pytorch-internals/\n",
    "\n",
    "a.storage()"
   ]
  },
  {
   "cell_type": "code",
   "execution_count": 89,
   "metadata": {},
   "outputs": [
    {
     "data": {
      "text/plain": [
       "torch.Size([32, 3, 2])"
      ]
     },
     "execution_count": 89,
     "metadata": {},
     "output_type": "execute_result"
    }
   ],
   "source": [
    "emb.shape"
   ]
  },
  {
   "cell_type": "code",
   "execution_count": 90,
   "metadata": {},
   "outputs": [
    {
     "data": {
      "text/plain": [
       "tensor([[ 0.5663,  1.4493,  0.5663,  1.4493,  0.5663,  1.4493],\n",
       "        [ 0.5663,  1.4493,  0.5663,  1.4493,  1.4252, -1.3235],\n",
       "        [ 0.5663,  1.4493,  1.4252, -1.3235,  1.9288, -0.6171],\n",
       "        [ 1.4252, -1.3235,  1.9288, -0.6171,  1.9288, -0.6171],\n",
       "        [ 1.9288, -0.6171,  1.9288, -0.6171, -0.1540,  0.7652],\n",
       "        [ 0.5663,  1.4493,  0.5663,  1.4493,  0.5663,  1.4493],\n",
       "        [ 0.5663,  1.4493,  0.5663,  1.4493,  0.6201, -1.0412],\n",
       "        [ 0.5663,  1.4493,  0.6201, -1.0412, -1.8361,  0.6212],\n",
       "        [ 0.6201, -1.0412, -1.8361,  0.6212,  1.1180,  0.5706],\n",
       "        [-1.8361,  0.6212,  1.1180,  0.5706, -0.5374,  0.3974],\n",
       "        [ 1.1180,  0.5706, -0.5374,  0.3974,  1.1180,  0.5706],\n",
       "        [-0.5374,  0.3974,  1.1180,  0.5706, -0.1540,  0.7652],\n",
       "        [ 0.5663,  1.4493,  0.5663,  1.4493,  0.5663,  1.4493],\n",
       "        [ 0.5663,  1.4493,  0.5663,  1.4493, -0.1540,  0.7652],\n",
       "        [ 0.5663,  1.4493, -0.1540,  0.7652, -0.5374,  0.3974],\n",
       "        [-0.1540,  0.7652, -0.5374,  0.3974, -0.1540,  0.7652],\n",
       "        [ 0.5663,  1.4493,  0.5663,  1.4493,  0.5663,  1.4493],\n",
       "        [ 0.5663,  1.4493,  0.5663,  1.4493,  1.1180,  0.5706],\n",
       "        [ 0.5663,  1.4493,  1.1180,  0.5706,  0.1714, -0.6367],\n",
       "        [ 1.1180,  0.5706,  0.1714, -0.6367, -0.1540,  0.7652],\n",
       "        [ 0.1714, -0.6367, -0.1540,  0.7652,  0.2312,  0.2028],\n",
       "        [-0.1540,  0.7652,  0.2312,  0.2028,  1.4252, -1.3235],\n",
       "        [ 0.2312,  0.2028,  1.4252, -1.3235, -1.8361,  0.6212],\n",
       "        [ 1.4252, -1.3235, -1.8361,  0.6212, -1.8361,  0.6212],\n",
       "        [-1.8361,  0.6212, -1.8361,  0.6212, -0.1540,  0.7652],\n",
       "        [ 0.5663,  1.4493,  0.5663,  1.4493,  0.5663,  1.4493],\n",
       "        [ 0.5663,  1.4493,  0.5663,  1.4493,  0.1714, -0.6367],\n",
       "        [ 0.5663,  1.4493,  0.1714, -0.6367,  0.6201, -1.0412],\n",
       "        [ 0.1714, -0.6367,  0.6201, -1.0412,  0.7796,  0.8651],\n",
       "        [ 0.6201, -1.0412,  0.7796,  0.8651,  1.3941, -0.4849],\n",
       "        [ 0.7796,  0.8651,  1.3941, -0.4849,  1.1180,  0.5706],\n",
       "        [ 1.3941, -0.4849,  1.1180,  0.5706, -0.1540,  0.7652]])"
      ]
     },
     "execution_count": 90,
     "metadata": {},
     "output_type": "execute_result"
    }
   ],
   "source": [
    "# we can just simply ask pytorch to view the tensor as [32,6]\n",
    "emb.view(32,6)"
   ]
  },
  {
   "cell_type": "code",
   "execution_count": 91,
   "metadata": {},
   "outputs": [
    {
     "data": {
      "text/plain": [
       "tensor([[True, True, True, True, True, True],\n",
       "        [True, True, True, True, True, True],\n",
       "        [True, True, True, True, True, True],\n",
       "        [True, True, True, True, True, True],\n",
       "        [True, True, True, True, True, True],\n",
       "        [True, True, True, True, True, True],\n",
       "        [True, True, True, True, True, True],\n",
       "        [True, True, True, True, True, True],\n",
       "        [True, True, True, True, True, True],\n",
       "        [True, True, True, True, True, True],\n",
       "        [True, True, True, True, True, True],\n",
       "        [True, True, True, True, True, True],\n",
       "        [True, True, True, True, True, True],\n",
       "        [True, True, True, True, True, True],\n",
       "        [True, True, True, True, True, True],\n",
       "        [True, True, True, True, True, True],\n",
       "        [True, True, True, True, True, True],\n",
       "        [True, True, True, True, True, True],\n",
       "        [True, True, True, True, True, True],\n",
       "        [True, True, True, True, True, True],\n",
       "        [True, True, True, True, True, True],\n",
       "        [True, True, True, True, True, True],\n",
       "        [True, True, True, True, True, True],\n",
       "        [True, True, True, True, True, True],\n",
       "        [True, True, True, True, True, True],\n",
       "        [True, True, True, True, True, True],\n",
       "        [True, True, True, True, True, True],\n",
       "        [True, True, True, True, True, True],\n",
       "        [True, True, True, True, True, True],\n",
       "        [True, True, True, True, True, True],\n",
       "        [True, True, True, True, True, True],\n",
       "        [True, True, True, True, True, True]])"
      ]
     },
     "execution_count": 91,
     "metadata": {},
     "output_type": "execute_result"
    }
   ],
   "source": [
    "# we can also verify the results\n",
    "\n",
    "emb.view(32,6) == torch.cat(torch.unbind(emb,1),1)"
   ]
  },
  {
   "cell_type": "code",
   "execution_count": 112,
   "metadata": {},
   "outputs": [],
   "source": [
    "# now if we come back to the multiplications \n",
    "\n",
    "# hidden states, h -> hidden layer of activation use tanh in the paper (the numbers will be between -1 to 1 coz of tanh)\n",
    "#  X @ W + b    with tanh activation\n",
    "h =  torch.tanh(emb.view(32,6) @ W1 + b1) \n"
   ]
  },
  {
   "cell_type": "code",
   "execution_count": 113,
   "metadata": {},
   "outputs": [
    {
     "data": {
      "text/plain": [
       "torch.Size([32, 100])"
      ]
     },
     "execution_count": 113,
     "metadata": {},
     "output_type": "execute_result"
    }
   ],
   "source": [
    "h.shape"
   ]
  },
  {
   "cell_type": "code",
   "execution_count": 103,
   "metadata": {},
   "outputs": [
    {
     "name": "stdout",
     "output_type": "stream",
     "text": [
      "-> torch.Size([32, 100])\n",
      "-> torch.Size([32, 100])\n"
     ]
    }
   ],
   "source": [
    "## this is for understanding and best coding practices\n",
    "\n",
    "'''we have hardcoded the 32 -> \n",
    "one way is we put emb.shape[0] or \n",
    "another way is we put -1( in this torch will automatically figure out the shape)'''\n",
    "\n",
    "print(f'-> {(emb.view(emb.shape[0], 6) @ W1 + b1).shape}')\n",
    "print(f'-> {(emb.view(-1, 6)@ W1 + b1).shape}')"
   ]
  },
  {
   "cell_type": "code",
   "execution_count": 114,
   "metadata": {},
   "outputs": [
    {
     "data": {
      "text/plain": [
       "tensor([[ 1.0000,  0.9565, -0.9840,  ..., -0.9364, -0.8814, -0.8158],\n",
       "        [ 0.9998, -0.8505, -0.9995,  ..., -0.1457,  0.9612,  0.9696],\n",
       "        [-0.9697,  0.9827, -0.9994,  ..., -1.0000,  0.9991,  1.0000],\n",
       "        ...,\n",
       "        [ 0.9731, -0.9559,  0.9849,  ...,  0.9270,  0.2331,  0.9996],\n",
       "        [ 0.4353,  0.9680, -0.9643,  ..., -1.0000,  0.8227,  0.9996],\n",
       "        [ 0.9340, -0.9637,  0.5387,  ...,  0.6683, -0.7041,  0.2378]])"
      ]
     },
     "execution_count": 114,
     "metadata": {},
     "output_type": "execute_result"
    }
   ],
   "source": [
    "h"
   ]
  },
  {
   "cell_type": "code",
   "execution_count": 115,
   "metadata": {},
   "outputs": [
    {
     "data": {
      "text/plain": [
       "torch.Size([32, 100])"
      ]
     },
     "execution_count": 115,
     "metadata": {},
     "output_type": "execute_result"
    }
   ],
   "source": [
    "h.shape"
   ]
  },
  {
   "cell_type": "markdown",
   "metadata": {},
   "source": [
    "#### Final Layer"
   ]
  },
  {
   "cell_type": "code",
   "execution_count": 116,
   "metadata": {},
   "outputs": [],
   "source": [
    "# the input size for hidden layer would be 100\n",
    "\n",
    "W2 = torch.randn((100,27))\n",
    "# bias\n",
    "b2 = torch.randn(27)"
   ]
  },
  {
   "cell_type": "code",
   "execution_count": 118,
   "metadata": {},
   "outputs": [],
   "source": [
    "logits = h @ W2 + b2"
   ]
  },
  {
   "cell_type": "code",
   "execution_count": 119,
   "metadata": {},
   "outputs": [
    {
     "data": {
      "text/plain": [
       "torch.Size([32, 27])"
      ]
     },
     "execution_count": 119,
     "metadata": {},
     "output_type": "execute_result"
    }
   ],
   "source": [
    "logits.shape"
   ]
  },
  {
   "cell_type": "code",
   "execution_count": 121,
   "metadata": {},
   "outputs": [],
   "source": [
    "counts = logits.exp()"
   ]
  },
  {
   "cell_type": "code",
   "execution_count": 122,
   "metadata": {},
   "outputs": [],
   "source": [
    "probs = counts / counts.sum(1, keepdims= True)"
   ]
  },
  {
   "cell_type": "code",
   "execution_count": 124,
   "metadata": {},
   "outputs": [
    {
     "data": {
      "text/plain": [
       "torch.Size([32, 27])"
      ]
     },
     "execution_count": 124,
     "metadata": {},
     "output_type": "execute_result"
    }
   ],
   "source": [
    "probs.shape"
   ]
  },
  {
   "cell_type": "code",
   "execution_count": 125,
   "metadata": {},
   "outputs": [
    {
     "data": {
      "text/plain": [
       "tensor(1.0000)"
      ]
     },
     "execution_count": 125,
     "metadata": {},
     "output_type": "execute_result"
    }
   ],
   "source": [
    "probs[0].sum()"
   ]
  },
  {
   "cell_type": "code",
   "execution_count": 127,
   "metadata": {},
   "outputs": [
    {
     "data": {
      "text/plain": [
       "tensor([2.5160e-06, 5.0468e-08, 9.4913e-16, 4.2556e-10, 1.8539e-09, 1.6902e-06,\n",
       "        4.3396e-09, 6.4010e-09, 3.0317e-01, 2.8690e-11, 6.1598e-10, 1.1701e-08,\n",
       "        3.8621e-03, 1.4933e-04, 2.4820e-06, 3.2776e-09, 4.2421e-09, 4.8460e-11,\n",
       "        4.0399e-10, 4.4234e-03, 1.8438e-08, 1.1938e-04, 1.8784e-07, 6.2564e-07,\n",
       "        4.7296e-04, 1.1597e-10, 7.7712e-03, 9.7319e-08, 2.0010e-06, 3.0559e-02,\n",
       "        3.4230e-13, 1.1424e-10])"
      ]
     },
     "execution_count": 127,
     "metadata": {},
     "output_type": "execute_result"
    }
   ],
   "source": [
    "# now we grab the assigned probs based on the Y given to us by above neuralnet without training\n",
    "\n",
    "probs[torch.arange(32), Y]"
   ]
  },
  {
   "cell_type": "code",
   "execution_count": 129,
   "metadata": {},
   "outputs": [
    {
     "data": {
      "text/plain": [
       "tensor(16.1114)"
      ]
     },
     "execution_count": 129,
     "metadata": {},
     "output_type": "execute_result"
    }
   ],
   "source": [
    "# loss as we did in previous video\n",
    "\n",
    "loss = -probs[torch.arange(32), Y].log().mean()\n",
    "loss"
   ]
  },
  {
   "cell_type": "code",
   "execution_count": 130,
   "metadata": {},
   "outputs": [],
   "source": [
    "# --------------------     write it all more concisely and respectfully ------------------#"
   ]
  },
  {
   "cell_type": "code",
   "execution_count": 227,
   "metadata": {},
   "outputs": [
    {
     "data": {
      "text/plain": [
       "(torch.Size([32, 3]), torch.Size([32]))"
      ]
     },
     "execution_count": 227,
     "metadata": {},
     "output_type": "execute_result"
    }
   ],
   "source": [
    "X.shape, Y.shape #dataset"
   ]
  },
  {
   "cell_type": "code",
   "execution_count": 172,
   "metadata": {},
   "outputs": [],
   "source": [
    "g = torch.Generator().manual_seed(2147483647)\n",
    "C = torch.randn((27,2), generator = g)\n",
    "W1 = torch.randn((6, 100), generator = g)\n",
    "b1 = torch.randn(100, generator = g)\n",
    "W2 = torch.randn((100,27), generator = g)\n",
    "b2 = torch.randn(27, generator = g)\n",
    "parameters = [C, W1, b1, W2, b2]"
   ]
  },
  {
   "cell_type": "code",
   "execution_count": 148,
   "metadata": {},
   "outputs": [
    {
     "data": {
      "text/plain": [
       "3481"
      ]
     },
     "execution_count": 148,
     "metadata": {},
     "output_type": "execute_result"
    }
   ],
   "source": [
    "sum(p.nelement() for p in parameters) # no of parameters in total"
   ]
  },
  {
   "cell_type": "code",
   "execution_count": 143,
   "metadata": {},
   "outputs": [
    {
     "data": {
      "text/plain": [
       "tensor(17.7697)"
      ]
     },
     "execution_count": 143,
     "metadata": {},
     "output_type": "execute_result"
    }
   ],
   "source": [
    "emb = C[X] # [32, 3, 2]\n",
    "h = torch.tanh(emb.view(-1,6) @ W1 + b1) # (32,100)\n",
    "logits = h @ W2 + b2\n",
    "counts = logits.exp()\n",
    "probs = counts / counts.sum(1, keepdims= True)\n",
    "loss = -probs[torch.arange(32), Y].log().mean()\n",
    "loss"
   ]
  },
  {
   "cell_type": "code",
   "execution_count": 144,
   "metadata": {},
   "outputs": [
    {
     "data": {
      "text/plain": [
       "tensor(17.7697)"
      ]
     },
     "execution_count": 144,
     "metadata": {},
     "output_type": "execute_result"
    }
   ],
   "source": [
    "# the counts, probs, and loss line is equivalent to cross entropy loss \n",
    "\n",
    "loss = F.cross_entropy(logits, Y)"
   ]
  },
  {
   "cell_type": "code",
   "execution_count": 149,
   "metadata": {},
   "outputs": [
    {
     "data": {
      "text/plain": [
       "tensor(17.7697)"
      ]
     },
     "execution_count": 149,
     "metadata": {},
     "output_type": "execute_result"
    }
   ],
   "source": [
    "# so it should be like this\n",
    "\n",
    "\n",
    "emb = C[X] # [32, 3, 2]\n",
    "h = torch.tanh(emb.view(-1,6) @ W1 + b1) # (32,100)\n",
    "logits = h @ W2 + b2\n",
    "# counts = logits.exp()\n",
    "# probs = counts / counts.sum(1, keepdims= True)\n",
    "# loss = -probs[torch.arange(32), Y].log().mean()\n",
    "loss = F.cross_entropy(logits, Y)\n",
    "loss"
   ]
  },
  {
   "cell_type": "markdown",
   "metadata": {},
   "source": [
    "#### why to use cross entropy and not calculate loss on our own \n",
    "\n",
    "''' Because - \n",
    "1) the forward and backward pass can be much more efficient\n",
    "2) the numerical calculation will be much more well behaved\n",
    "'''\n",
    "\n"
   ]
  },
  {
   "cell_type": "code",
   "execution_count": 160,
   "metadata": {},
   "outputs": [
    {
     "name": "stdout",
     "output_type": "stream",
     "text": [
      "case 1 tensor([4.5053e-05, 9.0492e-04, 6.6865e-03, 9.9236e-01])\n",
      "case 1 tensor(1.)\n",
      "case 1 counts tensor([6.7379e-03, 1.3534e-01, 1.0000e+00, 1.4841e+02])\n",
      "case 2 tensor([0.0000e+00, 9.0496e-04, 6.6868e-03, 9.9241e-01])\n",
      "case 2 tensor(1.)\n",
      "case 2 counts tensor([0.0000e+00, 1.3534e-01, 1.0000e+00, 1.4841e+02])\n",
      "case 3 tensor([0., 0., 0., nan])\n",
      "case 3 tensor(nan)\n",
      "case 3 counts tensor([0.0000, 0.1353, 1.0000,    inf])\n"
     ]
    }
   ],
   "source": [
    "## example of 2nd reason why numerical calculation will be much more well behaved in cross-entropy\n",
    "##### Case 1\n",
    "logits = torch.tensor([-5,-2,0,5])\n",
    "counts = logits.exp()\n",
    "probs = counts / counts.sum()\n",
    "print(\"case 1\",probs)\n",
    "print(\"case 1\", probs.sum())\n",
    "print(\"case 1 counts\", counts)\n",
    "# so here it is fine aalso the sujm of the probs will be 1 too \n",
    "\n",
    "##### Case 2 ---- if logits have very negative number \n",
    "logits = torch.tensor([-500,-2,0,5])\n",
    "counts = logits.exp()\n",
    "probs = counts / counts.sum()\n",
    "print(\"case 2\",probs)\n",
    "print(\"case 2\", probs.sum())\n",
    "print(\"case 2 counts\", counts)\n",
    "# it is fine in case 2 as well but what if we have a very positive number in logits \n",
    "\n",
    "\n",
    "##### Case 3 ---- if logits have very positive number \n",
    "logits = torch.tensor([-500,-2,0,100])\n",
    "counts = logits.exp()\n",
    "probs = counts / counts.sum()\n",
    "print(\"case 3\",probs)\n",
    "print(\"case 3\", probs.sum())\n",
    "print(\"case 3 counts\", counts)\n",
    "# in case 3 it becomes nan as logits.exp(500) is coming to be infinte, it surpasses the range of flaoting numbers"
   ]
  },
  {
   "cell_type": "code",
   "execution_count": 167,
   "metadata": {},
   "outputs": [
    {
     "name": "stdout",
     "output_type": "stream",
     "text": [
      "case 1 tensor([0., 0., 0., nan])\n",
      "case 1 tensor(nan)\n",
      "case 1 counts tensor([0.0067, 0.1353, 1.0000,    inf])\n",
      "case 2 tensor([0.0000e+00, 5.6052e-45, 3.7835e-44, 1.0000e+00])\n",
      "case 2 tensor(1.)\n",
      "case 2 counts tensor([0.0000e+00, 5.6052e-45, 3.7835e-44, 1.0000e+00])\n"
     ]
    }
   ],
   "source": [
    "# as we have seen above that very positive numbers can break our loss calculation\n",
    "\n",
    "#### What happens in cross_entropy in the same case -- ? \n",
    "\n",
    "\"\"\"\n",
    "In pytorch it takes the max positive number of the logits and subtract it with the logists which \n",
    "didnt impact the probabilities and keep it safe from going to inf \n",
    "\"\"\"\n",
    "\n",
    "## what it does - visualization\n",
    "##### Case 1\n",
    "logits = torch.tensor([-5,-2,0,100])\n",
    "counts = logits.exp()\n",
    "probs = counts / counts.sum()\n",
    "print(\"case 1\",probs)\n",
    "print(\"case 1\", probs.sum())\n",
    "print(\"case 1 counts\", counts)\n",
    "\n",
    "\n",
    "##### Case 2 \n",
    "logits = torch.tensor([-5,-2,0,100]) - 100\n",
    "counts = logits.exp()\n",
    "probs = counts / counts.sum()\n",
    "print(\"case 2\",probs)\n",
    "print(\"case 2\", probs.sum())\n",
    "print(\"case 2 counts\", counts)\n",
    "# it is fine now if we subtract the max from the logits\n",
    "\n"
   ]
  },
  {
   "cell_type": "markdown",
   "metadata": {},
   "source": [
    "                    #### Collecting everything -> forward and backward pass"
   ]
  },
  {
   "cell_type": "code",
   "execution_count": 174,
   "metadata": {},
   "outputs": [],
   "source": [
    "# requires grad for parameters to be true \n",
    "\n",
    "for p in parameters:\n",
    "    p.requires_grad = True"
   ]
  },
  {
   "cell_type": "code",
   "execution_count": 176,
   "metadata": {},
   "outputs": [
    {
     "name": "stdout",
     "output_type": "stream",
     "text": [
      "0.2560828924179077\n"
     ]
    }
   ],
   "source": [
    "# now collecting forward pass and backward pass\n",
    "for _ in range(1000):\n",
    "    \n",
    "    # forward pass \n",
    "    emb = C[X] # [32,3,2]\n",
    "    h = torch.tanh(emb.view(-1,6) @ W1 + b1) #(32,100)\n",
    "    logits = h @ W2 + b2 # (32, 27)\n",
    "    loss = F.cross_entropy(logits, Y)\n",
    "    \n",
    "\n",
    "    # backward pass \n",
    "    for p in parameters:\n",
    "        p.grad = None\n",
    "\n",
    "    loss.backward()\n",
    "\n",
    "    #update\n",
    "    for p in parameters:\n",
    "        p.data += -0.1 * p.grad\n",
    "print(loss.item())\n"
   ]
  },
  {
   "cell_type": "code",
   "execution_count": 183,
   "metadata": {
    "scrolled": false
   },
   "outputs": [
    {
     "name": "stdout",
     "output_type": "stream",
     "text": [
      "\n"
     ]
    }
   ],
   "source": [
    "#### why loss is so low and why it is so straight forward ? \n",
    "\n",
    "\"\"\"\n",
    "The reason is this is so straight forward is that we are overfitting 32 examples of 1st 5 words on 3482 parameters\n",
    "therefore it is very easy for the neural net to fit these 32 examples over these many parameters\n",
    "This is called \"overfitting\", for single batch of data\n",
    "\"\"\"\n",
    "\n",
    "#### Q why we are not able to achieve zero loss?\n",
    "\"\"\"\n",
    "fundamentally in X-> \"...\" need to predict [e/o/a/i/s] so because of this case we are not able to get\n",
    "zero loss as some of the predictions are not correct\n",
    "\n",
    "emma\n",
    "... ---> e\n",
    "..e ---> m\n",
    ".em ---> m\n",
    "emm ---> a\n",
    "mma ---> .\n",
    "olivia\n",
    "... ---> o\n",
    "..o ---> l\n",
    ".ol ---> i\n",
    "oli ---> v\n",
    "liv ---> i\n",
    "ivi ---> a\n",
    "via ---> .\n",
    "ava\n",
    "... ---> a\n",
    "..a ---> v\n",
    ".av ---> a\n",
    "ava ---> .\n",
    "isabella\n",
    "... ---> i\n",
    "..i ---> s\n",
    ".is ---> a\n",
    "isa ---> b\n",
    "sab ---> e\n",
    "abe ---> l\n",
    "bel ---> l\n",
    "ell ---> a\n",
    "lla ---> .\n",
    "sophia\n",
    "... ---> s\n",
    "..s ---> o\n",
    ".so ---> p\n",
    "sop ---> h\n",
    "oph ---> i\n",
    "phi ---> a\n",
    "hia ---> .\n",
    "\"\"\"\n"
   ]
  },
  {
   "cell_type": "code",
   "execution_count": 177,
   "metadata": {},
   "outputs": [
    {
     "data": {
      "text/plain": [
       "torch.return_types.max(\n",
       "values=tensor([13.3422, 17.8072, 20.6086, 20.6228, 16.7472, 13.3422, 16.0096, 14.1820,\n",
       "        15.9244, 18.3747, 15.9526, 20.9386, 13.3422, 17.1231, 17.1447, 20.0735,\n",
       "        13.3422, 16.5999, 15.1165, 17.0717, 18.5967, 15.9804, 10.8856, 10.6975,\n",
       "        15.5135, 13.3422, 16.1899, 16.9852, 12.7504, 16.2093, 19.0982, 16.0355],\n",
       "       grad_fn=<MaxBackward0>),\n",
       "indices=tensor([19, 13, 13,  1,  0, 19, 12,  9, 22,  9,  1,  0, 19, 22,  1,  0, 19, 19,\n",
       "         1,  2,  5, 12, 12,  1,  0, 19, 15, 16,  8,  9,  1,  0]))"
      ]
     },
     "execution_count": 177,
     "metadata": {},
     "output_type": "execute_result"
    }
   ],
   "source": [
    "logits.max(1) # looking for the max along the 1st dimension"
   ]
  },
  {
   "cell_type": "code",
   "execution_count": 178,
   "metadata": {},
   "outputs": [
    {
     "data": {
      "text/plain": [
       "tensor([ 5, 13, 13,  1,  0, 15, 12,  9, 22,  9,  1,  0,  1, 22,  1,  0,  9, 19,\n",
       "         1,  2,  5, 12, 12,  1,  0, 19, 15, 16,  8,  9,  1,  0])"
      ]
     },
     "execution_count": 178,
     "metadata": {},
     "output_type": "execute_result"
    }
   ],
   "source": [
    "Y"
   ]
  },
  {
   "cell_type": "markdown",
   "metadata": {},
   "source": [
    "\"\"\"we can see that at 0th place indices are differ from Y 0th index ie why we have mismatched prediction because of ... have too many chars to predict so that is we have do not have zero loss \"\"\""
   ]
  },
  {
   "cell_type": "markdown",
   "metadata": {},
   "source": [
    "### Now we run the neural net for whole dataset"
   ]
  },
  {
   "cell_type": "code",
   "execution_count": 235,
   "metadata": {},
   "outputs": [],
   "source": [
    "# build the dataset \n",
    "\n",
    "block_size = 3 # context length: how many characters do we take to predict the next one?\n",
    "X, Y = [], []\n",
    "for w in words:\n",
    "#     print(w)\n",
    "    context = [0] * block_size\n",
    "    \n",
    "    for ch in w + \".\":\n",
    "        index = stoi[ch]\n",
    "        X.append(context)\n",
    "        Y.append(index)\n",
    "#         print(\"\".join(itos[i] for i in context), '--->', itos[index])\n",
    "        context = context[1:] + [index] # crop and append\n",
    "\n",
    "X = torch.tensor(X)\n",
    "Y = torch.tensor(Y)\n",
    "        "
   ]
  },
  {
   "cell_type": "code",
   "execution_count": 236,
   "metadata": {},
   "outputs": [
    {
     "data": {
      "text/plain": [
       "(torch.Size([228146, 3]), torch.Size([228146]))"
      ]
     },
     "execution_count": 236,
     "metadata": {},
     "output_type": "execute_result"
    }
   ],
   "source": [
    "X.shape, Y.shape #dataset"
   ]
  },
  {
   "cell_type": "code",
   "execution_count": 237,
   "metadata": {},
   "outputs": [],
   "source": [
    "g = torch.Generator().manual_seed(2147483647)\n",
    "C = torch.randn((27,2), generator = g)\n",
    "W1 = torch.randn((6, 100), generator = g)\n",
    "b1 = torch.randn(100, generator = g)\n",
    "W2 = torch.randn((100,27), generator = g)\n",
    "b2 = torch.randn(27, generator = g)\n",
    "parameters = [C, W1, b1, W2, b2]"
   ]
  },
  {
   "cell_type": "code",
   "execution_count": 238,
   "metadata": {},
   "outputs": [
    {
     "data": {
      "text/plain": [
       "3481"
      ]
     },
     "execution_count": 238,
     "metadata": {},
     "output_type": "execute_result"
    }
   ],
   "source": [
    "sum(p.nelement() for p in parameters)"
   ]
  },
  {
   "cell_type": "code",
   "execution_count": 239,
   "metadata": {},
   "outputs": [],
   "source": [
    "# requires grad for parameters to be true \n",
    "\n",
    "for p in parameters:\n",
    "    p.requires_grad = True"
   ]
  },
  {
   "cell_type": "code",
   "execution_count": 198,
   "metadata": {},
   "outputs": [
    {
     "name": "stdout",
     "output_type": "stream",
     "text": [
      "10.709586143493652\n",
      "10.407632827758789\n",
      "10.127808570861816\n",
      "9.86436653137207\n",
      "9.614505767822266\n",
      "9.37644100189209\n",
      "9.148946762084961\n",
      "8.931113243103027\n",
      "8.722232818603516\n",
      "8.52175235748291\n"
     ]
    }
   ],
   "source": [
    "# now collecting forward pass and backward pass\n",
    "for _ in range(10):\n",
    "    \n",
    "    # forward pass \n",
    "    emb = C[X] # [228146,3,2]\n",
    "    h = torch.tanh(emb.view(-1,6) @ W1 + b1) #(228146,100)\n",
    "    logits = h @ W2 + b2 # (228146, 27)\n",
    "    loss = F.cross_entropy(logits, Y)\n",
    "    print(loss.item())\n",
    "    \n",
    "    # backward pass \n",
    "    for p in parameters:\n",
    "        p.grad = None\n",
    "\n",
    "    loss.backward()\n",
    "\n",
    "    #update\n",
    "    for p in parameters:\n",
    "        p.data += -0.1 * p.grad\n",
    "\n"
   ]
  },
  {
   "cell_type": "markdown",
   "metadata": {},
   "source": [
    "#### we can observe that it is slow ass we are doing alot of backward and forward for 228146 datasize in updating the weights\n",
    "\"\"\"\n",
    "What we do mostly is we create minibatches and then update those weights for that mini batch\n",
    "\n",
    "\"\"\"\n",
    "\n"
   ]
  },
  {
   "cell_type": "code",
   "execution_count": 202,
   "metadata": {},
   "outputs": [
    {
     "data": {
      "text/plain": [
       "tensor([2, 3, 1, 1, 1, 3, 2, 0, 4, 3, 1, 4, 0, 2, 4, 0, 1, 0, 0, 4, 0, 4, 2, 0,\n",
       "        2, 4, 2, 2, 3, 1, 1, 1])"
      ]
     },
     "execution_count": 202,
     "metadata": {},
     "output_type": "execute_result"
    }
   ],
   "source": [
    "torch.randint(0, 5, (32,)) # generating 32 size random nos from 0-5"
   ]
  },
  {
   "cell_type": "code",
   "execution_count": 203,
   "metadata": {},
   "outputs": [
    {
     "data": {
      "text/plain": [
       "tensor([ 41539, 223194, 195217,  34460, 111120,   4131, 201537,  33303,  80955,\n",
       "        201100, 126410,  83383, 178053, 156430, 204958, 133041, 150429,  66573,\n",
       "        180998,  19105,  17416, 172086, 195422,  59440, 218847, 162776,  23828,\n",
       "         94555, 148143, 219880, 143571,  37840])"
      ]
     },
     "execution_count": 203,
     "metadata": {},
     "output_type": "execute_result"
    }
   ],
   "source": [
    "# these are going to be the index of minibatches\n",
    "\n",
    "torch.randint(0, X.shape[0], (32,)) # generating 32 size Xshape nos from 0-5"
   ]
  },
  {
   "cell_type": "code",
   "execution_count": 212,
   "metadata": {},
   "outputs": [
    {
     "name": "stdout",
     "output_type": "stream",
     "text": [
      "2.461575746536255\n"
     ]
    }
   ],
   "source": [
    "# now collecting forward pass and backward pass with minibatch\n",
    "for _ in range(100): \n",
    "    \n",
    "    # minibatch construct\n",
    "    ix = torch.randint(0, X.shape[0], (32,))\n",
    "    \n",
    "    # forward pass \n",
    "    emb = C[X[ix]] # [228146,3,2]\n",
    "    h = torch.tanh(emb.view(-1,6) @ W1 + b1) #(228146,100)\n",
    "    logits = h @ W2 + b2 # (228146, 27)\n",
    "    loss = F.cross_entropy(logits, Y[ix])\n",
    "\n",
    "    \n",
    "    # backward pass \n",
    "    for p in parameters:\n",
    "        p.grad = None\n",
    "\n",
    "    loss.backward()\n",
    "\n",
    "    #update\n",
    "    for p in parameters:\n",
    "        p.data += -0.1 * p.grad\n",
    "print(loss.item())"
   ]
  },
  {
   "cell_type": "markdown",
   "metadata": {},
   "source": [
    "\"\"\"\n",
    "Now we are dealing with minibatches the quality of the gradient is lower, we can say it is not reliable to a gradient direction but gradient direction is good enough if it only estimating through 32 batch size examples that it is useful. \n",
    "\n",
    "It is much better to have approximate gradient and make more steps then to evaluate the exact gradient and take fewer steps so that is why it works quite well in practice.\"\"\"\n"
   ]
  },
  {
   "cell_type": "code",
   "execution_count": 214,
   "metadata": {},
   "outputs": [
    {
     "data": {
      "text/plain": [
       "tensor(2.8203, grad_fn=<NllLossBackward0>)"
      ]
     },
     "execution_count": 214,
     "metadata": {},
     "output_type": "execute_result"
    }
   ],
   "source": [
    "# overall loss just checking here---\n",
    "emb = C[X] # [228146,3,2]\n",
    "h = torch.tanh(emb.view(-1,6) @ W1 + b1) #(228146,100)\n",
    "logits = h @ W2 + b2 # (228146, 27)\n",
    "loss = F.cross_entropy(logits, Y)\n",
    "loss"
   ]
  },
  {
   "cell_type": "markdown",
   "metadata": {},
   "source": [
    "#### Finding a good learning rate "
   ]
  },
  {
   "cell_type": "code",
   "execution_count": 215,
   "metadata": {},
   "outputs": [
    {
     "data": {
      "text/plain": [
       "tensor([0.0010, 0.0010, 0.0010, 0.0010, 0.0010, 0.0010, 0.0010, 0.0010, 0.0011,\n",
       "        0.0011, 0.0011, 0.0011, 0.0011, 0.0011, 0.0011, 0.0011, 0.0011, 0.0011,\n",
       "        0.0011, 0.0011, 0.0011, 0.0012, 0.0012, 0.0012, 0.0012, 0.0012, 0.0012,\n",
       "        0.0012, 0.0012, 0.0012, 0.0012, 0.0012, 0.0012, 0.0013, 0.0013, 0.0013,\n",
       "        0.0013, 0.0013, 0.0013, 0.0013, 0.0013, 0.0013, 0.0013, 0.0013, 0.0014,\n",
       "        0.0014, 0.0014, 0.0014, 0.0014, 0.0014, 0.0014, 0.0014, 0.0014, 0.0014,\n",
       "        0.0015, 0.0015, 0.0015, 0.0015, 0.0015, 0.0015, 0.0015, 0.0015, 0.0015,\n",
       "        0.0015, 0.0016, 0.0016, 0.0016, 0.0016, 0.0016, 0.0016, 0.0016, 0.0016,\n",
       "        0.0016, 0.0017, 0.0017, 0.0017, 0.0017, 0.0017, 0.0017, 0.0017, 0.0017,\n",
       "        0.0018, 0.0018, 0.0018, 0.0018, 0.0018, 0.0018, 0.0018, 0.0018, 0.0019,\n",
       "        0.0019, 0.0019, 0.0019, 0.0019, 0.0019, 0.0019, 0.0019, 0.0020, 0.0020,\n",
       "        0.0020, 0.0020, 0.0020, 0.0020, 0.0020, 0.0021, 0.0021, 0.0021, 0.0021,\n",
       "        0.0021, 0.0021, 0.0021, 0.0022, 0.0022, 0.0022, 0.0022, 0.0022, 0.0022,\n",
       "        0.0022, 0.0023, 0.0023, 0.0023, 0.0023, 0.0023, 0.0023, 0.0024, 0.0024,\n",
       "        0.0024, 0.0024, 0.0024, 0.0024, 0.0025, 0.0025, 0.0025, 0.0025, 0.0025,\n",
       "        0.0025, 0.0026, 0.0026, 0.0026, 0.0026, 0.0026, 0.0027, 0.0027, 0.0027,\n",
       "        0.0027, 0.0027, 0.0027, 0.0028, 0.0028, 0.0028, 0.0028, 0.0028, 0.0029,\n",
       "        0.0029, 0.0029, 0.0029, 0.0029, 0.0030, 0.0030, 0.0030, 0.0030, 0.0030,\n",
       "        0.0031, 0.0031, 0.0031, 0.0031, 0.0032, 0.0032, 0.0032, 0.0032, 0.0032,\n",
       "        0.0033, 0.0033, 0.0033, 0.0033, 0.0034, 0.0034, 0.0034, 0.0034, 0.0034,\n",
       "        0.0035, 0.0035, 0.0035, 0.0035, 0.0036, 0.0036, 0.0036, 0.0036, 0.0037,\n",
       "        0.0037, 0.0037, 0.0037, 0.0038, 0.0038, 0.0038, 0.0039, 0.0039, 0.0039,\n",
       "        0.0039, 0.0040, 0.0040, 0.0040, 0.0040, 0.0041, 0.0041, 0.0041, 0.0042,\n",
       "        0.0042, 0.0042, 0.0042, 0.0043, 0.0043, 0.0043, 0.0044, 0.0044, 0.0044,\n",
       "        0.0045, 0.0045, 0.0045, 0.0045, 0.0046, 0.0046, 0.0046, 0.0047, 0.0047,\n",
       "        0.0047, 0.0048, 0.0048, 0.0048, 0.0049, 0.0049, 0.0049, 0.0050, 0.0050,\n",
       "        0.0050, 0.0051, 0.0051, 0.0051, 0.0052, 0.0052, 0.0053, 0.0053, 0.0053,\n",
       "        0.0054, 0.0054, 0.0054, 0.0055, 0.0055, 0.0056, 0.0056, 0.0056, 0.0057,\n",
       "        0.0057, 0.0058, 0.0058, 0.0058, 0.0059, 0.0059, 0.0060, 0.0060, 0.0060,\n",
       "        0.0061, 0.0061, 0.0062, 0.0062, 0.0062, 0.0063, 0.0063, 0.0064, 0.0064,\n",
       "        0.0065, 0.0065, 0.0066, 0.0066, 0.0067, 0.0067, 0.0067, 0.0068, 0.0068,\n",
       "        0.0069, 0.0069, 0.0070, 0.0070, 0.0071, 0.0071, 0.0072, 0.0072, 0.0073,\n",
       "        0.0073, 0.0074, 0.0074, 0.0075, 0.0075, 0.0076, 0.0076, 0.0077, 0.0077,\n",
       "        0.0078, 0.0079, 0.0079, 0.0080, 0.0080, 0.0081, 0.0081, 0.0082, 0.0082,\n",
       "        0.0083, 0.0084, 0.0084, 0.0085, 0.0085, 0.0086, 0.0086, 0.0087, 0.0088,\n",
       "        0.0088, 0.0089, 0.0090, 0.0090, 0.0091, 0.0091, 0.0092, 0.0093, 0.0093,\n",
       "        0.0094, 0.0095, 0.0095, 0.0096, 0.0097, 0.0097, 0.0098, 0.0099, 0.0099,\n",
       "        0.0100, 0.0101, 0.0101, 0.0102, 0.0103, 0.0104, 0.0104, 0.0105, 0.0106,\n",
       "        0.0106, 0.0107, 0.0108, 0.0109, 0.0109, 0.0110, 0.0111, 0.0112, 0.0112,\n",
       "        0.0113, 0.0114, 0.0115, 0.0116, 0.0116, 0.0117, 0.0118, 0.0119, 0.0120,\n",
       "        0.0121, 0.0121, 0.0122, 0.0123, 0.0124, 0.0125, 0.0126, 0.0127, 0.0127,\n",
       "        0.0128, 0.0129, 0.0130, 0.0131, 0.0132, 0.0133, 0.0134, 0.0135, 0.0136,\n",
       "        0.0137, 0.0137, 0.0138, 0.0139, 0.0140, 0.0141, 0.0142, 0.0143, 0.0144,\n",
       "        0.0145, 0.0146, 0.0147, 0.0148, 0.0149, 0.0150, 0.0151, 0.0152, 0.0154,\n",
       "        0.0155, 0.0156, 0.0157, 0.0158, 0.0159, 0.0160, 0.0161, 0.0162, 0.0163,\n",
       "        0.0165, 0.0166, 0.0167, 0.0168, 0.0169, 0.0170, 0.0171, 0.0173, 0.0174,\n",
       "        0.0175, 0.0176, 0.0178, 0.0179, 0.0180, 0.0181, 0.0182, 0.0184, 0.0185,\n",
       "        0.0186, 0.0188, 0.0189, 0.0190, 0.0192, 0.0193, 0.0194, 0.0196, 0.0197,\n",
       "        0.0198, 0.0200, 0.0201, 0.0202, 0.0204, 0.0205, 0.0207, 0.0208, 0.0210,\n",
       "        0.0211, 0.0212, 0.0214, 0.0215, 0.0217, 0.0218, 0.0220, 0.0221, 0.0223,\n",
       "        0.0225, 0.0226, 0.0228, 0.0229, 0.0231, 0.0232, 0.0234, 0.0236, 0.0237,\n",
       "        0.0239, 0.0241, 0.0242, 0.0244, 0.0246, 0.0247, 0.0249, 0.0251, 0.0253,\n",
       "        0.0254, 0.0256, 0.0258, 0.0260, 0.0261, 0.0263, 0.0265, 0.0267, 0.0269,\n",
       "        0.0271, 0.0273, 0.0274, 0.0276, 0.0278, 0.0280, 0.0282, 0.0284, 0.0286,\n",
       "        0.0288, 0.0290, 0.0292, 0.0294, 0.0296, 0.0298, 0.0300, 0.0302, 0.0304,\n",
       "        0.0307, 0.0309, 0.0311, 0.0313, 0.0315, 0.0317, 0.0320, 0.0322, 0.0324,\n",
       "        0.0326, 0.0328, 0.0331, 0.0333, 0.0335, 0.0338, 0.0340, 0.0342, 0.0345,\n",
       "        0.0347, 0.0350, 0.0352, 0.0354, 0.0357, 0.0359, 0.0362, 0.0364, 0.0367,\n",
       "        0.0369, 0.0372, 0.0375, 0.0377, 0.0380, 0.0382, 0.0385, 0.0388, 0.0390,\n",
       "        0.0393, 0.0396, 0.0399, 0.0401, 0.0404, 0.0407, 0.0410, 0.0413, 0.0416,\n",
       "        0.0418, 0.0421, 0.0424, 0.0427, 0.0430, 0.0433, 0.0436, 0.0439, 0.0442,\n",
       "        0.0445, 0.0448, 0.0451, 0.0455, 0.0458, 0.0461, 0.0464, 0.0467, 0.0471,\n",
       "        0.0474, 0.0477, 0.0480, 0.0484, 0.0487, 0.0491, 0.0494, 0.0497, 0.0501,\n",
       "        0.0504, 0.0508, 0.0511, 0.0515, 0.0518, 0.0522, 0.0526, 0.0529, 0.0533,\n",
       "        0.0537, 0.0540, 0.0544, 0.0548, 0.0552, 0.0556, 0.0559, 0.0563, 0.0567,\n",
       "        0.0571, 0.0575, 0.0579, 0.0583, 0.0587, 0.0591, 0.0595, 0.0599, 0.0604,\n",
       "        0.0608, 0.0612, 0.0616, 0.0621, 0.0625, 0.0629, 0.0634, 0.0638, 0.0642,\n",
       "        0.0647, 0.0651, 0.0656, 0.0660, 0.0665, 0.0670, 0.0674, 0.0679, 0.0684,\n",
       "        0.0688, 0.0693, 0.0698, 0.0703, 0.0708, 0.0713, 0.0718, 0.0723, 0.0728,\n",
       "        0.0733, 0.0738, 0.0743, 0.0748, 0.0753, 0.0758, 0.0764, 0.0769, 0.0774,\n",
       "        0.0780, 0.0785, 0.0790, 0.0796, 0.0802, 0.0807, 0.0813, 0.0818, 0.0824,\n",
       "        0.0830, 0.0835, 0.0841, 0.0847, 0.0853, 0.0859, 0.0865, 0.0871, 0.0877,\n",
       "        0.0883, 0.0889, 0.0895, 0.0901, 0.0908, 0.0914, 0.0920, 0.0927, 0.0933,\n",
       "        0.0940, 0.0946, 0.0953, 0.0959, 0.0966, 0.0973, 0.0979, 0.0986, 0.0993,\n",
       "        0.1000, 0.1007, 0.1014, 0.1021, 0.1028, 0.1035, 0.1042, 0.1050, 0.1057,\n",
       "        0.1064, 0.1072, 0.1079, 0.1087, 0.1094, 0.1102, 0.1109, 0.1117, 0.1125,\n",
       "        0.1133, 0.1140, 0.1148, 0.1156, 0.1164, 0.1172, 0.1181, 0.1189, 0.1197,\n",
       "        0.1205, 0.1214, 0.1222, 0.1231, 0.1239, 0.1248, 0.1256, 0.1265, 0.1274,\n",
       "        0.1283, 0.1292, 0.1301, 0.1310, 0.1319, 0.1328, 0.1337, 0.1346, 0.1356,\n",
       "        0.1365, 0.1374, 0.1384, 0.1394, 0.1403, 0.1413, 0.1423, 0.1433, 0.1443,\n",
       "        0.1453, 0.1463, 0.1473, 0.1483, 0.1493, 0.1504, 0.1514, 0.1525, 0.1535,\n",
       "        0.1546, 0.1557, 0.1567, 0.1578, 0.1589, 0.1600, 0.1611, 0.1623, 0.1634,\n",
       "        0.1645, 0.1657, 0.1668, 0.1680, 0.1691, 0.1703, 0.1715, 0.1727, 0.1739,\n",
       "        0.1751, 0.1763, 0.1775, 0.1788, 0.1800, 0.1812, 0.1825, 0.1838, 0.1850,\n",
       "        0.1863, 0.1876, 0.1889, 0.1902, 0.1916, 0.1929, 0.1942, 0.1956, 0.1969,\n",
       "        0.1983, 0.1997, 0.2010, 0.2024, 0.2038, 0.2053, 0.2067, 0.2081, 0.2096,\n",
       "        0.2110, 0.2125, 0.2140, 0.2154, 0.2169, 0.2184, 0.2200, 0.2215, 0.2230,\n",
       "        0.2246, 0.2261, 0.2277, 0.2293, 0.2309, 0.2325, 0.2341, 0.2357, 0.2373,\n",
       "        0.2390, 0.2406, 0.2423, 0.2440, 0.2457, 0.2474, 0.2491, 0.2508, 0.2526,\n",
       "        0.2543, 0.2561, 0.2579, 0.2597, 0.2615, 0.2633, 0.2651, 0.2669, 0.2688,\n",
       "        0.2707, 0.2725, 0.2744, 0.2763, 0.2783, 0.2802, 0.2821, 0.2841, 0.2861,\n",
       "        0.2880, 0.2900, 0.2921, 0.2941, 0.2961, 0.2982, 0.3002, 0.3023, 0.3044,\n",
       "        0.3065, 0.3087, 0.3108, 0.3130, 0.3151, 0.3173, 0.3195, 0.3217, 0.3240,\n",
       "        0.3262, 0.3285, 0.3308, 0.3331, 0.3354, 0.3377, 0.3400, 0.3424, 0.3448,\n",
       "        0.3472, 0.3496, 0.3520, 0.3544, 0.3569, 0.3594, 0.3619, 0.3644, 0.3669,\n",
       "        0.3695, 0.3720, 0.3746, 0.3772, 0.3798, 0.3825, 0.3851, 0.3878, 0.3905,\n",
       "        0.3932, 0.3959, 0.3987, 0.4014, 0.4042, 0.4070, 0.4098, 0.4127, 0.4155,\n",
       "        0.4184, 0.4213, 0.4243, 0.4272, 0.4302, 0.4331, 0.4362, 0.4392, 0.4422,\n",
       "        0.4453, 0.4484, 0.4515, 0.4546, 0.4578, 0.4610, 0.4642, 0.4674, 0.4706,\n",
       "        0.4739, 0.4772, 0.4805, 0.4838, 0.4872, 0.4906, 0.4940, 0.4974, 0.5008,\n",
       "        0.5043, 0.5078, 0.5113, 0.5149, 0.5185, 0.5221, 0.5257, 0.5293, 0.5330,\n",
       "        0.5367, 0.5404, 0.5442, 0.5479, 0.5517, 0.5556, 0.5594, 0.5633, 0.5672,\n",
       "        0.5712, 0.5751, 0.5791, 0.5831, 0.5872, 0.5913, 0.5954, 0.5995, 0.6036,\n",
       "        0.6078, 0.6120, 0.6163, 0.6206, 0.6249, 0.6292, 0.6336, 0.6380, 0.6424,\n",
       "        0.6469, 0.6513, 0.6559, 0.6604, 0.6650, 0.6696, 0.6743, 0.6789, 0.6837,\n",
       "        0.6884, 0.6932, 0.6980, 0.7028, 0.7077, 0.7126, 0.7176, 0.7225, 0.7275,\n",
       "        0.7326, 0.7377, 0.7428, 0.7480, 0.7531, 0.7584, 0.7636, 0.7689, 0.7743,\n",
       "        0.7796, 0.7850, 0.7905, 0.7960, 0.8015, 0.8071, 0.8127, 0.8183, 0.8240,\n",
       "        0.8297, 0.8355, 0.8412, 0.8471, 0.8530, 0.8589, 0.8648, 0.8708, 0.8769,\n",
       "        0.8830, 0.8891, 0.8953, 0.9015, 0.9077, 0.9140, 0.9204, 0.9268, 0.9332,\n",
       "        0.9397, 0.9462, 0.9528, 0.9594, 0.9660, 0.9727, 0.9795, 0.9863, 0.9931,\n",
       "        1.0000])"
      ]
     },
     "execution_count": 215,
     "metadata": {},
     "output_type": "execute_result"
    }
   ],
   "source": [
    "lre = torch.linspace(-3, 0, 1000)\n",
    "lrs = 10 ** lre\n",
    "lrs"
   ]
  },
  {
   "cell_type": "code",
   "execution_count": 233,
   "metadata": {},
   "outputs": [
    {
     "name": "stdout",
     "output_type": "stream",
     "text": [
      "19.01653480529785\n",
      "18.71354103088379\n",
      "18.35076141357422\n",
      "18.91163444519043\n",
      "20.735458374023438\n",
      "17.23101806640625\n",
      "19.903057098388672\n",
      "20.05885124206543\n",
      "20.919992446899414\n",
      "19.128625869750977\n",
      "21.48160171508789\n",
      "17.306936264038086\n",
      "20.156248092651367\n",
      "16.05809783935547\n",
      "19.012575149536133\n",
      "18.006879806518555\n",
      "19.361888885498047\n",
      "18.11344337463379\n",
      "18.394512176513672\n",
      "16.23164176940918\n",
      "16.142356872558594\n",
      "19.84491729736328\n",
      "14.889447212219238\n",
      "19.338973999023438\n",
      "17.337345123291016\n",
      "19.42704963684082\n",
      "21.918087005615234\n",
      "18.050474166870117\n",
      "19.43299674987793\n",
      "17.456573486328125\n",
      "19.318618774414062\n",
      "18.081993103027344\n",
      "19.380556106567383\n",
      "20.608856201171875\n",
      "17.676414489746094\n",
      "16.791431427001953\n",
      "17.88814353942871\n",
      "18.088010787963867\n",
      "18.91673469543457\n",
      "17.560426712036133\n",
      "20.014402389526367\n",
      "14.547139167785645\n",
      "17.448017120361328\n",
      "18.73333740234375\n",
      "16.383102416992188\n",
      "16.039085388183594\n",
      "18.370023727416992\n",
      "19.934188842773438\n",
      "17.01706886291504\n",
      "17.103496551513672\n",
      "20.252086639404297\n",
      "15.364550590515137\n",
      "17.684389114379883\n",
      "21.043731689453125\n",
      "17.688457489013672\n",
      "17.377473831176758\n",
      "17.522708892822266\n",
      "18.058752059936523\n",
      "16.86988067626953\n",
      "19.180500030517578\n",
      "18.389341354370117\n",
      "18.395238876342773\n",
      "17.794797897338867\n",
      "20.32624626159668\n",
      "18.191003799438477\n",
      "17.38149642944336\n",
      "18.889022827148438\n",
      "17.20323371887207\n",
      "15.918456077575684\n",
      "16.34113883972168\n",
      "20.882646560668945\n",
      "15.802966117858887\n",
      "18.98637580871582\n",
      "19.32916259765625\n",
      "14.788761138916016\n",
      "16.175926208496094\n",
      "15.993614196777344\n",
      "16.59353256225586\n",
      "17.70570182800293\n",
      "17.075855255126953\n",
      "15.206817626953125\n",
      "17.5391788482666\n",
      "17.96356201171875\n",
      "15.924212455749512\n",
      "16.029186248779297\n",
      "13.493351936340332\n",
      "16.91843032836914\n",
      "12.283376693725586\n",
      "17.11931610107422\n",
      "17.621213912963867\n",
      "16.981914520263672\n",
      "19.316913604736328\n",
      "19.57547378540039\n",
      "19.128984451293945\n",
      "16.54214096069336\n",
      "17.732879638671875\n",
      "16.4046630859375\n",
      "17.64283561706543\n",
      "19.630321502685547\n",
      "15.824287414550781\n",
      "15.74970817565918\n",
      "16.662771224975586\n",
      "17.665843963623047\n",
      "17.007455825805664\n",
      "16.243051528930664\n",
      "13.984368324279785\n",
      "18.547025680541992\n",
      "15.560487747192383\n",
      "17.855266571044922\n",
      "17.481689453125\n",
      "17.423967361450195\n",
      "14.441120147705078\n",
      "16.196401596069336\n",
      "15.046107292175293\n",
      "15.769001007080078\n",
      "16.376644134521484\n",
      "18.21027374267578\n",
      "15.020585060119629\n",
      "17.6814022064209\n",
      "16.965534210205078\n",
      "14.395054817199707\n",
      "16.993019104003906\n",
      "18.297115325927734\n",
      "15.005768775939941\n",
      "16.890321731567383\n",
      "16.6497802734375\n",
      "16.231630325317383\n",
      "16.843950271606445\n",
      "14.99494457244873\n",
      "12.83974838256836\n",
      "14.333318710327148\n",
      "17.687143325805664\n",
      "15.126567840576172\n",
      "14.244873046875\n",
      "13.367593765258789\n",
      "14.859216690063477\n",
      "18.637048721313477\n",
      "16.31836700439453\n",
      "15.118083953857422\n",
      "16.05514144897461\n",
      "16.959943771362305\n",
      "16.99882698059082\n",
      "13.494800567626953\n",
      "15.61530590057373\n",
      "14.102814674377441\n",
      "17.457340240478516\n",
      "16.00484275817871\n",
      "15.698676109313965\n",
      "15.272231101989746\n",
      "15.69814395904541\n",
      "12.851093292236328\n",
      "15.7871732711792\n",
      "15.560300827026367\n",
      "16.379837036132812\n",
      "13.923591613769531\n",
      "14.123368263244629\n",
      "14.884613037109375\n",
      "15.689018249511719\n",
      "17.413644790649414\n",
      "14.190132141113281\n",
      "15.867253303527832\n",
      "12.15494441986084\n",
      "14.85405445098877\n",
      "13.697863578796387\n",
      "12.724884033203125\n",
      "15.278764724731445\n",
      "10.808813095092773\n",
      "14.069652557373047\n",
      "14.83186149597168\n",
      "17.917095184326172\n",
      "15.458477020263672\n",
      "13.090631484985352\n",
      "15.749312400817871\n",
      "13.178800582885742\n",
      "12.35815715789795\n",
      "13.392417907714844\n",
      "14.263276100158691\n",
      "12.31733512878418\n",
      "13.610177040100098\n",
      "14.753751754760742\n",
      "15.929015159606934\n",
      "13.322964668273926\n",
      "13.120635032653809\n",
      "13.059514045715332\n",
      "15.266283988952637\n",
      "13.937800407409668\n",
      "16.9200496673584\n",
      "11.287541389465332\n",
      "13.318416595458984\n",
      "12.21711540222168\n",
      "14.611462593078613\n",
      "13.52042293548584\n",
      "15.289240837097168\n",
      "13.676959991455078\n",
      "12.809311866760254\n",
      "14.950448989868164\n",
      "14.706803321838379\n",
      "13.302996635437012\n",
      "13.982370376586914\n",
      "13.147771835327148\n",
      "9.607378959655762\n",
      "14.287033081054688\n",
      "13.095260620117188\n",
      "13.486748695373535\n",
      "14.168353080749512\n",
      "12.884406089782715\n",
      "13.931960105895996\n",
      "11.707340240478516\n",
      "12.600203514099121\n",
      "15.920052528381348\n",
      "15.367338180541992\n",
      "13.11816120147705\n",
      "14.808796882629395\n",
      "13.357160568237305\n",
      "12.717201232910156\n",
      "11.164298057556152\n",
      "12.154950141906738\n",
      "11.663700103759766\n",
      "13.328398704528809\n",
      "13.292523384094238\n",
      "12.6212739944458\n",
      "11.423966407775879\n",
      "14.645590782165527\n",
      "13.636809349060059\n",
      "10.854207038879395\n",
      "12.29861068725586\n",
      "11.48640251159668\n",
      "13.71983528137207\n",
      "13.826116561889648\n",
      "12.100640296936035\n",
      "10.802366256713867\n",
      "12.853296279907227\n",
      "10.708736419677734\n",
      "13.708198547363281\n",
      "8.936580657958984\n",
      "13.029203414916992\n",
      "13.878216743469238\n",
      "14.889639854431152\n",
      "11.995903968811035\n",
      "12.98415756225586\n",
      "13.827422142028809\n",
      "12.780550956726074\n",
      "11.915872573852539\n",
      "12.384109497070312\n",
      "14.340837478637695\n",
      "11.879759788513184\n",
      "15.15040397644043\n",
      "12.72628402709961\n",
      "11.979294776916504\n",
      "10.938064575195312\n",
      "15.003085136413574\n",
      "8.284040451049805\n",
      "11.381012916564941\n",
      "10.588408470153809\n",
      "13.95607852935791\n",
      "13.504159927368164\n",
      "12.488028526306152\n",
      "11.617602348327637\n",
      "10.762575149536133\n",
      "14.830946922302246\n",
      "11.88073444366455\n",
      "12.45846939086914\n",
      "12.865545272827148\n",
      "11.769803047180176\n",
      "12.177897453308105\n",
      "12.055760383605957\n",
      "11.309771537780762\n",
      "10.796834945678711\n",
      "10.145120620727539\n",
      "11.455270767211914\n",
      "10.810990333557129\n",
      "9.825881004333496\n",
      "14.042288780212402\n",
      "11.746950149536133\n",
      "12.533886909484863\n",
      "12.08355712890625\n",
      "14.017219543457031\n",
      "11.183453559875488\n",
      "11.466565132141113\n",
      "9.964120864868164\n",
      "11.981541633605957\n",
      "11.10607624053955\n",
      "11.854926109313965\n",
      "13.283382415771484\n",
      "10.934489250183105\n",
      "10.226815223693848\n",
      "12.280229568481445\n",
      "10.373002052307129\n",
      "11.987123489379883\n",
      "11.695235252380371\n",
      "12.383306503295898\n",
      "10.346991539001465\n",
      "9.110459327697754\n",
      "9.805459976196289\n",
      "9.236068725585938\n",
      "11.874788284301758\n",
      "11.462075233459473\n",
      "12.461727142333984\n",
      "9.173796653747559\n",
      "10.543320655822754\n",
      "10.070643424987793\n",
      "9.410409927368164\n",
      "10.807741165161133\n",
      "11.041457176208496\n",
      "12.288944244384766\n",
      "12.170137405395508\n",
      "10.710125923156738\n",
      "8.747110366821289\n",
      "12.485007286071777\n",
      "12.25507640838623\n",
      "12.539849281311035\n",
      "12.521699905395508\n",
      "6.457927703857422\n",
      "13.474071502685547\n",
      "11.857390403747559\n",
      "10.461074829101562\n",
      "10.26224422454834\n",
      "12.529258728027344\n",
      "9.593467712402344\n",
      "7.950397491455078\n",
      "11.636070251464844\n",
      "10.73614501953125\n",
      "13.504629135131836\n",
      "10.343645095825195\n",
      "12.221762657165527\n",
      "9.531370162963867\n",
      "10.221994400024414\n",
      "10.501724243164062\n",
      "10.73786735534668\n",
      "9.656737327575684\n",
      "10.727502822875977\n",
      "11.520879745483398\n",
      "8.020259857177734\n",
      "11.509008407592773\n",
      "8.730636596679688\n",
      "9.883955001831055\n",
      "10.03763198852539\n",
      "10.39759349822998\n",
      "10.872591972351074\n",
      "13.008191108703613\n",
      "11.052038192749023\n",
      "12.483305931091309\n",
      "11.358244895935059\n",
      "6.546397686004639\n",
      "8.574236869812012\n",
      "12.680105209350586\n",
      "9.089262008666992\n",
      "8.370521545410156\n",
      "8.86899185180664\n",
      "10.140137672424316\n",
      "10.734720230102539\n",
      "9.320568084716797\n",
      "9.738924026489258\n",
      "8.830276489257812\n",
      "9.7982759475708\n",
      "11.231895446777344\n",
      "8.056411743164062\n",
      "10.25838851928711\n",
      "9.103240013122559\n",
      "8.202404022216797\n",
      "10.353652954101562\n",
      "8.918414115905762\n",
      "10.354940414428711\n",
      "8.665555000305176\n",
      "7.608083248138428\n",
      "10.304903030395508\n",
      "8.65478801727295\n",
      "10.407090187072754\n",
      "8.16456127166748\n",
      "10.917450904846191\n",
      "8.397238731384277\n",
      "6.9071807861328125\n",
      "8.950539588928223\n",
      "7.045563697814941\n",
      "8.181288719177246\n",
      "9.480229377746582\n",
      "9.119144439697266\n",
      "8.559664726257324\n",
      "6.408526420593262\n",
      "9.821501731872559\n",
      "5.998587608337402\n",
      "8.078266143798828\n",
      "8.656798362731934\n",
      "7.8794264793396\n",
      "8.37143325805664\n",
      "9.650856971740723\n",
      "9.021333694458008\n",
      "6.085042476654053\n",
      "7.788730144500732\n",
      "8.959025382995605\n",
      "8.007736206054688\n",
      "7.689795017242432\n",
      "8.232452392578125\n",
      "7.951780319213867\n",
      "9.13831615447998\n",
      "8.887537956237793\n",
      "7.84663724899292\n",
      "8.251363754272461\n",
      "7.270456790924072\n",
      "9.154438972473145\n",
      "8.179966926574707\n",
      "9.685099601745605\n",
      "8.494974136352539\n",
      "8.656354904174805\n",
      "8.685702323913574\n",
      "8.494620323181152\n",
      "7.260112762451172\n",
      "7.69743013381958\n",
      "8.630437850952148\n",
      "5.431552410125732\n",
      "7.532228946685791\n",
      "8.063149452209473\n",
      "7.958981513977051\n",
      "8.5678129196167\n",
      "8.0035400390625\n",
      "7.1687397956848145\n",
      "8.024192810058594\n",
      "6.8282151222229\n",
      "7.727994918823242\n",
      "8.409758567810059\n",
      "6.730207920074463\n",
      "8.307503700256348\n",
      "7.218334674835205\n",
      "6.191422462463379\n",
      "8.760292053222656\n",
      "7.125753879547119\n",
      "7.468497276306152\n",
      "7.351991653442383\n",
      "6.63374662399292\n",
      "8.114691734313965\n",
      "6.408795356750488\n",
      "5.639523029327393\n",
      "7.951935768127441\n",
      "5.194528102874756\n",
      "5.7577595710754395\n",
      "8.564240455627441\n",
      "7.015012741088867\n",
      "7.32304048538208\n",
      "5.832115173339844\n",
      "6.439998626708984\n",
      "6.932966709136963\n",
      "6.591382026672363\n",
      "7.317072868347168\n",
      "7.8239545822143555\n",
      "6.670238018035889\n",
      "6.38818359375\n",
      "7.359492301940918\n",
      "7.130114555358887\n",
      "6.337059497833252\n",
      "6.722142696380615\n",
      "6.066099166870117\n",
      "6.516298294067383\n",
      "6.289876461029053\n",
      "7.771538257598877\n",
      "6.992279529571533\n",
      "6.6570024490356445\n",
      "8.828853607177734\n",
      "7.4775800704956055\n",
      "6.257236003875732\n",
      "7.149572372436523\n",
      "6.610199451446533\n",
      "5.997096061706543\n",
      "6.162430286407471\n",
      "6.562132835388184\n",
      "6.8146209716796875\n",
      "7.0314507484436035\n",
      "6.720724105834961\n",
      "5.954417705535889\n",
      "6.945444583892822\n",
      "6.132470607757568\n",
      "6.632199287414551\n",
      "6.000155925750732\n",
      "6.5054850578308105\n",
      "3.861414909362793\n",
      "5.6381754875183105\n",
      "5.754879474639893\n",
      "7.851397514343262\n",
      "5.767822742462158\n",
      "5.993594646453857\n",
      "5.194876670837402\n",
      "6.6663336753845215\n",
      "5.926069736480713\n",
      "6.033815860748291\n",
      "5.918914794921875\n",
      "4.974995136260986\n",
      "5.28436279296875\n",
      "4.772891044616699\n",
      "8.6025390625\n",
      "6.079675197601318\n",
      "4.943193435668945\n",
      "7.240928649902344\n",
      "7.540558815002441\n",
      "5.0144548416137695\n",
      "6.076474189758301\n",
      "5.382673740386963\n",
      "4.898293495178223\n",
      "6.0252861976623535\n",
      "6.259300231933594\n",
      "4.977463245391846\n",
      "3.7144269943237305\n",
      "5.212977886199951\n",
      "5.48563289642334\n",
      "5.115767955780029\n",
      "5.432131290435791\n",
      "6.771544456481934\n",
      "4.622481822967529\n",
      "6.691390514373779\n",
      "5.9042229652404785\n",
      "6.201882839202881\n",
      "5.305273056030273\n",
      "5.279750823974609\n",
      "4.735564231872559\n",
      "4.798665523529053\n",
      "5.649487018585205\n",
      "6.482480049133301\n",
      "4.66238260269165\n",
      "4.85196590423584\n",
      "6.533398628234863\n",
      "5.227931022644043\n",
      "5.083381652832031\n",
      "4.92952823638916\n",
      "5.417376518249512\n",
      "5.051241874694824\n",
      "3.781358242034912\n",
      "5.528885841369629\n",
      "4.6447954177856445\n",
      "5.494532585144043\n",
      "4.210974216461182\n",
      "6.320389747619629\n",
      "4.504096031188965\n",
      "4.6339592933654785\n",
      "5.1758036613464355\n",
      "4.037961959838867\n",
      "4.8668293952941895\n",
      "5.028949737548828\n",
      "5.213930606842041\n",
      "4.066413402557373\n",
      "4.170466423034668\n",
      "4.628554344177246\n",
      "5.986412525177002\n",
      "4.65667724609375\n",
      "4.140908241271973\n",
      "3.59708571434021\n",
      "4.198090076446533\n",
      "5.431276321411133\n",
      "5.365530490875244\n",
      "5.522597312927246\n",
      "3.891228675842285\n",
      "5.767535209655762\n",
      "3.7022769451141357\n",
      "3.929055690765381\n",
      "5.470736503601074\n",
      "4.995308876037598\n",
      "3.8936562538146973\n",
      "4.1281256675720215\n",
      "5.661455154418945\n",
      "4.16679573059082\n",
      "3.917445182800293\n",
      "4.438329696655273\n",
      "4.297028541564941\n",
      "4.2078537940979\n",
      "4.396861553192139\n",
      "5.386014461517334\n",
      "4.655673027038574\n",
      "4.580809593200684\n",
      "4.44591760635376\n",
      "3.599769353866577\n",
      "4.575129508972168\n",
      "4.664017677307129\n",
      "3.8347489833831787\n",
      "3.995514392852783\n",
      "3.7979342937469482\n",
      "5.117831707000732\n",
      "5.018471717834473\n",
      "4.4322967529296875\n",
      "3.491048574447632\n",
      "4.151635646820068\n",
      "3.287802219390869\n",
      "3.200377941131592\n",
      "3.79848575592041\n",
      "3.539073944091797\n",
      "3.8890466690063477\n",
      "3.9764044284820557\n",
      "4.1696248054504395\n",
      "3.9128222465515137\n",
      "4.0267486572265625\n",
      "2.9123246669769287\n",
      "3.5466670989990234\n",
      "3.5172054767608643\n",
      "3.7862625122070312\n",
      "4.390841484069824\n",
      "3.6519274711608887\n",
      "2.9136180877685547\n",
      "3.5619797706604004\n",
      "4.173388481140137\n",
      "4.261096477508545\n",
      "3.9422554969787598\n",
      "4.045889377593994\n",
      "3.400644302368164\n",
      "4.639269828796387\n",
      "2.7322537899017334\n",
      "3.71998929977417\n",
      "3.5546350479125977\n",
      "4.40726900100708\n",
      "3.4666249752044678\n",
      "3.989286422729492\n",
      "4.690131664276123\n",
      "4.108194351196289\n",
      "3.4729185104370117\n",
      "4.172956466674805\n",
      "3.0970892906188965\n",
      "3.5124611854553223\n",
      "2.632589340209961\n",
      "3.856874942779541\n",
      "3.690621852874756\n",
      "3.89695143699646\n",
      "4.811289310455322\n",
      "3.742849588394165\n",
      "3.415154218673706\n",
      "3.3601365089416504\n",
      "3.1778035163879395\n",
      "3.5687408447265625\n",
      "3.045700788497925\n",
      "3.4547383785247803\n",
      "4.748915672302246\n",
      "4.000768661499023\n",
      "3.435004234313965\n",
      "3.2846262454986572\n",
      "3.708216428756714\n",
      "3.1800365447998047\n",
      "4.654678821563721\n",
      "3.4179303646087646\n",
      "4.6120100021362305\n",
      "3.112180471420288\n",
      "3.5658278465270996\n",
      "3.441274642944336\n",
      "3.2759897708892822\n",
      "3.000436782836914\n",
      "4.102373123168945\n",
      "3.6152234077453613\n",
      "3.545811176300049\n",
      "3.448873519897461\n",
      "3.4483351707458496\n",
      "3.896616220474243\n",
      "3.6128530502319336\n",
      "3.5550224781036377\n",
      "3.5927493572235107\n",
      "3.7999320030212402\n",
      "3.5979485511779785\n",
      "4.11009407043457\n",
      "3.7690269947052\n",
      "3.763209581375122\n",
      "3.659071683883667\n",
      "3.319186210632324\n",
      "3.1625936031341553\n",
      "4.586377143859863\n",
      "3.335298776626587\n",
      "3.2460131645202637\n",
      "3.618180274963379\n",
      "3.57017183303833\n",
      "3.421567678451538\n",
      "3.035850763320923\n",
      "3.2883963584899902\n",
      "3.142812490463257\n",
      "3.0413196086883545\n",
      "2.8433027267456055\n",
      "3.5203051567077637\n",
      "2.687727928161621\n",
      "3.0406301021575928\n",
      "4.037604331970215\n",
      "3.5637595653533936\n",
      "3.6109867095947266\n",
      "2.7328059673309326\n",
      "3.004720449447632\n",
      "3.075042247772217\n",
      "3.1560304164886475\n",
      "2.9578497409820557\n",
      "2.631028890609741\n",
      "3.44012713432312\n",
      "3.5011954307556152\n",
      "4.458489894866943\n",
      "2.7518789768218994\n",
      "3.5313594341278076\n",
      "3.231414556503296\n",
      "3.3108465671539307\n",
      "2.852881908416748\n",
      "3.4608118534088135\n",
      "3.0621423721313477\n",
      "3.50947904586792\n",
      "3.499525785446167\n",
      "2.525160312652588\n",
      "3.645822525024414\n",
      "3.0447354316711426\n",
      "3.5983119010925293\n",
      "3.190150022506714\n",
      "3.9623918533325195\n",
      "3.0326130390167236\n",
      "2.7393157482147217\n",
      "3.5365939140319824\n",
      "3.0495080947875977\n",
      "3.7989723682403564\n",
      "2.8657121658325195\n",
      "3.546621561050415\n",
      "3.609781503677368\n",
      "3.2302887439727783\n",
      "2.8604679107666016\n",
      "3.043114185333252\n",
      "2.4287428855895996\n",
      "3.355304002761841\n",
      "3.7059664726257324\n",
      "2.9739043712615967\n",
      "3.193801164627075\n",
      "3.1516001224517822\n",
      "3.065758466720581\n",
      "3.8592331409454346\n",
      "3.715794324874878\n",
      "2.9445602893829346\n",
      "2.440742254257202\n",
      "3.0575814247131348\n",
      "3.1743922233581543\n",
      "2.7437543869018555\n",
      "3.6182706356048584\n",
      "3.4217934608459473\n",
      "3.397256374359131\n",
      "3.158247709274292\n",
      "3.0184295177459717\n",
      "3.3120765686035156\n",
      "3.3117756843566895\n",
      "3.313811779022217\n",
      "3.005486011505127\n",
      "3.8906643390655518\n",
      "2.5522472858428955\n",
      "3.1262388229370117\n",
      "2.891448497772217\n",
      "3.1014082431793213\n",
      "3.1811985969543457\n",
      "3.347773790359497\n",
      "2.72332501411438\n",
      "3.2772326469421387\n",
      "3.2365775108337402\n",
      "2.6875998973846436\n",
      "3.852879285812378\n",
      "2.804114580154419\n",
      "3.3694193363189697\n",
      "3.4769082069396973\n",
      "2.9331018924713135\n",
      "2.990314483642578\n",
      "3.022792339324951\n",
      "2.977076292037964\n",
      "3.1460516452789307\n",
      "3.439779281616211\n",
      "3.1657001972198486\n",
      "3.289685010910034\n",
      "3.1931865215301514\n",
      "3.028609275817871\n",
      "3.4992363452911377\n",
      "3.102393388748169\n",
      "2.8509275913238525\n",
      "3.127621650695801\n",
      "3.1869144439697266\n",
      "3.318626642227173\n",
      "3.3486545085906982\n",
      "2.661874294281006\n",
      "3.5999133586883545\n",
      "2.77093768119812\n",
      "3.3660671710968018\n",
      "3.252793550491333\n",
      "3.1432716846466064\n",
      "2.689598321914673\n",
      "2.7644975185394287\n",
      "2.868377447128296\n",
      "3.545382499694824\n",
      "3.7394309043884277\n",
      "3.456125497817993\n",
      "3.2944624423980713\n",
      "3.5056416988372803\n",
      "3.266969919204712\n",
      "3.807868003845215\n",
      "3.745131731033325\n",
      "3.203932523727417\n",
      "2.6901657581329346\n",
      "2.8692779541015625\n",
      "3.2507498264312744\n",
      "3.493330478668213\n",
      "4.294698238372803\n",
      "3.628727674484253\n",
      "3.1073644161224365\n",
      "3.3503623008728027\n",
      "3.500265121459961\n",
      "3.4174644947052\n",
      "3.0847079753875732\n",
      "3.006187677383423\n",
      "3.5209128856658936\n",
      "3.0005297660827637\n",
      "2.9374303817749023\n",
      "3.4099338054656982\n",
      "3.021467685699463\n",
      "3.217485189437866\n",
      "2.8800055980682373\n",
      "4.563266277313232\n",
      "4.113548755645752\n",
      "3.4152965545654297\n",
      "3.202349901199341\n",
      "3.5326731204986572\n",
      "3.0658719539642334\n",
      "2.92429518699646\n",
      "3.1954448223114014\n",
      "2.9345080852508545\n",
      "3.144987106323242\n",
      "4.411386966705322\n",
      "3.8164591789245605\n",
      "3.4342174530029297\n",
      "2.985905408859253\n",
      "3.6218254566192627\n",
      "3.2117271423339844\n",
      "3.414203405380249\n",
      "3.42238187789917\n",
      "3.408292531967163\n",
      "2.892285108566284\n",
      "3.454970359802246\n",
      "4.007480144500732\n",
      "3.6999521255493164\n",
      "3.078380584716797\n",
      "3.1496176719665527\n",
      "3.7953431606292725\n",
      "4.0190019607543945\n",
      "3.2332961559295654\n",
      "3.3496170043945312\n",
      "3.9836935997009277\n",
      "3.832223892211914\n",
      "3.694019317626953\n",
      "4.087449550628662\n",
      "3.4933581352233887\n",
      "3.484588146209717\n",
      "3.1088435649871826\n",
      "2.8889663219451904\n",
      "3.699561595916748\n",
      "4.8000407218933105\n",
      "5.240841865539551\n",
      "4.4987688064575195\n",
      "4.653195858001709\n",
      "4.045976161956787\n",
      "4.340864658355713\n",
      "3.4144840240478516\n",
      "3.362849235534668\n",
      "3.1961922645568848\n",
      "3.498533010482788\n",
      "4.0960774421691895\n",
      "3.619734764099121\n",
      "4.00762414932251\n",
      "4.72584342956543\n",
      "3.556046962738037\n",
      "5.998050212860107\n",
      "3.9370675086975098\n",
      "4.554587364196777\n",
      "4.056117057800293\n",
      "4.248339653015137\n",
      "4.149024963378906\n",
      "4.791383743286133\n",
      "4.03792667388916\n",
      "4.259714603424072\n",
      "4.961073398590088\n",
      "5.267299175262451\n",
      "5.654417514801025\n",
      "4.262619972229004\n",
      "4.407840251922607\n",
      "3.516033887863159\n",
      "3.1077680587768555\n",
      "3.171441078186035\n",
      "4.264495849609375\n",
      "4.835019111633301\n",
      "5.434771537780762\n",
      "4.51494026184082\n",
      "6.096337795257568\n",
      "3.98445463180542\n",
      "3.838176727294922\n",
      "4.767397403717041\n",
      "6.883919715881348\n",
      "5.167148590087891\n",
      "4.8342061042785645\n",
      "4.642258167266846\n",
      "5.158294677734375\n",
      "3.2777528762817383\n",
      "3.4554290771484375\n",
      "2.8932275772094727\n",
      "3.579836368560791\n",
      "3.906517505645752\n",
      "3.990614652633667\n",
      "3.8442437648773193\n",
      "3.6789357662200928\n",
      "4.555695056915283\n",
      "4.4486846923828125\n",
      "6.217392444610596\n",
      "5.354395866394043\n",
      "3.539257764816284\n",
      "4.684652328491211\n",
      "3.641170024871826\n",
      "3.7621617317199707\n",
      "4.767617702484131\n",
      "5.156318187713623\n",
      "6.216330528259277\n",
      "4.409470081329346\n",
      "4.812204360961914\n",
      "4.117705345153809\n",
      "3.288605213165283\n",
      "4.770660400390625\n",
      "4.9458417892456055\n",
      "5.3542304039001465\n",
      "5.271069526672363\n",
      "8.761523246765137\n",
      "6.297262191772461\n",
      "6.373055934906006\n",
      "3.5595669746398926\n",
      "4.416237831115723\n",
      "5.176540374755859\n",
      "5.0190110206604\n",
      "4.7777557373046875\n",
      "5.852794170379639\n",
      "3.9957919120788574\n",
      "4.373492240905762\n",
      "5.232603549957275\n",
      "6.208723545074463\n",
      "7.644659042358398\n",
      "5.355090141296387\n",
      "4.885994911193848\n",
      "4.888804912567139\n",
      "4.852355480194092\n",
      "4.77681303024292\n",
      "5.022447109222412\n",
      "4.49622106552124\n",
      "5.4991302490234375\n",
      "5.9533843994140625\n",
      "5.923882961273193\n",
      "5.547576904296875\n",
      "5.003474235534668\n",
      "4.708537578582764\n",
      "5.4593095779418945\n",
      "4.881083965301514\n",
      "4.701826572418213\n",
      "7.236785888671875\n",
      "4.636682510375977\n",
      "4.886990547180176\n",
      "5.224793910980225\n",
      "4.9616475105285645\n",
      "4.584197998046875\n",
      "5.195197582244873\n",
      "5.346800327301025\n",
      "4.913576602935791\n",
      "7.723830223083496\n",
      "6.784787654876709\n",
      "4.684061050415039\n",
      "6.69864559173584\n",
      "7.1127119064331055\n",
      "5.341424465179443\n",
      "7.643243312835693\n",
      "6.230603218078613\n",
      "5.637592315673828\n",
      "7.534207344055176\n",
      "5.243994235992432\n",
      "7.481747150421143\n",
      "5.485510349273682\n",
      "6.686028480529785\n",
      "5.824357032775879\n",
      "4.351183891296387\n",
      "5.712032794952393\n",
      "6.635833263397217\n",
      "6.967320442199707\n",
      "6.754939079284668\n",
      "6.408891201019287\n",
      "6.368823528289795\n",
      "4.973099231719971\n",
      "4.876919269561768\n",
      "6.324794769287109\n",
      "7.583316326141357\n",
      "8.636255264282227\n",
      "7.188294887542725\n",
      "12.428101539611816\n",
      "7.5601606369018555\n",
      "5.263394355773926\n",
      "6.909150123596191\n",
      "6.437699794769287\n",
      "4.910577774047852\n",
      "7.4055681228637695\n",
      "11.028461456298828\n",
      "8.477404594421387\n",
      "7.845107555389404\n",
      "8.335291862487793\n",
      "5.6399736404418945\n",
      "9.098746299743652\n",
      "6.33624267578125\n",
      "9.79015064239502\n",
      "6.304815769195557\n",
      "8.591262817382812\n",
      "9.465997695922852\n",
      "7.2363080978393555\n",
      "7.4725189208984375\n",
      "6.364797592163086\n",
      "7.661162376403809\n",
      "9.899063110351562\n",
      "9.796562194824219\n"
     ]
    }
   ],
   "source": [
    "# now we use this dynamic lr to find the best lr for this\n",
    "# rerunnning the weights again here from top-\n",
    "\n",
    "lri = []\n",
    "lossi = []\n",
    "\n",
    "for i in range(1000): \n",
    "    \n",
    "    # minibatch construct\n",
    "    ix = torch.randint(0, X.shape[0], (32,))\n",
    "    \n",
    "    # forward pass \n",
    "    emb = C[X[ix]] # [228146,3,2]\n",
    "    h = torch.tanh(emb.view(-1,6) @ W1 + b1) #(228146,100)\n",
    "    logits = h @ W2 + b2 # (228146, 27)\n",
    "    loss = F.cross_entropy(logits, Y[ix])\n",
    "    print(loss.item())\n",
    "\n",
    "    \n",
    "    # backward pass \n",
    "    for p in parameters:\n",
    "        p.grad = None\n",
    "\n",
    "    loss.backward()\n",
    "    \n",
    "    #dynamic lr\n",
    "    lr = lrs[i]\n",
    "    \n",
    "    #update\n",
    "    for p in parameters:\n",
    "        p.data += -lr * p.grad\n",
    "        \n",
    "        \n",
    "    # track stats\n",
    "    lri.append(lre[i])\n",
    "    lossi.append(loss.item())\n",
    "# print(loss.item())\n"
   ]
  },
  {
   "cell_type": "code",
   "execution_count": 234,
   "metadata": {},
   "outputs": [
    {
     "data": {
      "text/plain": [
       "[<matplotlib.lines.Line2D at 0x1304ea460>]"
      ]
     },
     "execution_count": 234,
     "metadata": {},
     "output_type": "execute_result"
    },
    {
     "data": {
      "image/png": "[encoded data removed]",
      "text/plain": [
       "<Figure size 640x480 with 1 Axes>"
      ]
     },
     "metadata": {},
     "output_type": "display_data"
    }
   ],
   "source": [
    "plt.plot(lri, lossi)"
   ]
  },
  {
   "cell_type": "markdown",
   "metadata": {},
   "source": [
    "#### now we can see that a decent lr is somewhere near 10**(-1.0) which is 0.1 what we were using it previously but we can observer that too loss is increasing on high lr(1) and starts decreasing from (0.001) lr--the best can be observed across (0.1)"
   ]
  },
  {
   "cell_type": "code",
   "execution_count": 248,
   "metadata": {},
   "outputs": [],
   "source": [
    "# reruning now with the 0.1 lr and for no of iterations\n",
    "\n",
    "# rerunnning the weights again here from top-\n",
    "\n",
    "lri = []\n",
    "lossi = []\n",
    "\n",
    "for i in range(10000): \n",
    "    \n",
    "    # minibatch construct\n",
    "    ix = torch.randint(0, X.shape[0], (32,))\n",
    "    \n",
    "    # forward pass \n",
    "    emb = C[X[ix]] # [228146,3,2]\n",
    "    h = torch.tanh(emb.view(-1,6) @ W1 + b1) #(228146,100)\n",
    "    logits = h @ W2 + b2 # (228146, 27)\n",
    "    loss = F.cross_entropy(logits, Y[ix])\n",
    "#     print(loss.item())\n",
    "\n",
    "    \n",
    "    # backward pass \n",
    "    for p in parameters:\n",
    "        p.grad = None\n",
    "\n",
    "    loss.backward()\n",
    "    \n",
    "    #dynamic lr\n",
    "    #lr = lrs[i]\n",
    "    lr = 0.01\n",
    "    \n",
    "    #update\n",
    "    for p in parameters:\n",
    "        p.data += -lr * p.grad\n",
    "        \n",
    "        \n",
    "#     # track stats\n",
    "#     lri.append(lre[i])\n",
    "#     lossi.append(loss.item())\n",
    "# print(loss.item())"
   ]
  },
  {
   "cell_type": "code",
   "execution_count": 249,
   "metadata": {},
   "outputs": [
    {
     "data": {
      "text/plain": [
       "tensor(2.3144, grad_fn=<NllLossBackward0>)"
      ]
     },
     "execution_count": 249,
     "metadata": {},
     "output_type": "execute_result"
    }
   ],
   "source": [
    "#overall loss for whole dataset\n",
    "\n",
    "emb = C[X] # [228146,3,2]\n",
    "h = torch.tanh(emb.view(-1,6) @ W1 + b1) #(228146,100)\n",
    "logits = h @ W2 + b2 # (228146, 27)\n",
    "loss = F.cross_entropy(logits, Y)\n",
    "loss"
   ]
  },
  {
   "cell_type": "markdown",
   "metadata": {},
   "source": [
    "\"\"\" so above after 30000 iterations I changed the lr to 0.01 as what we do generally we start with the lr which we\n",
    "found above in lr ananlysis and then train the model on that lr for a whole and then at the end we do lr decay by say factor of 10 and run it for few more iterations, then we get a trained network\"\"\""
   ]
  },
  {
   "cell_type": "markdown",
   "metadata": {},
   "source": [
    "### Splitting the data set -\n",
    "\n",
    "training set, dev/validation set, test set\n",
    "(80%, 10%,10%)\n",
    "\n"
   ]
  },
  {
   "cell_type": "code",
   "execution_count": 298,
   "metadata": {},
   "outputs": [
    {
     "name": "stdout",
     "output_type": "stream",
     "text": [
      "torch.Size([182437, 3]) torch.Size([182437])\n",
      "torch.Size([22781, 3]) torch.Size([22781])\n",
      "torch.Size([22928, 3]) torch.Size([22928])\n"
     ]
    }
   ],
   "source": [
    "# build the dataset \n",
    "\n",
    "def build_dataset(words):\n",
    "    block_size = 3 # context length: how many characters do we take to predict the next one?\n",
    "    X, Y = [], []\n",
    "    for w in words:\n",
    "    #     print(w)\n",
    "        context = [0] * block_size\n",
    "\n",
    "        for ch in w + \".\":\n",
    "            index = stoi[ch]\n",
    "            X.append(context)\n",
    "            Y.append(index)\n",
    "    #         print(\"\".join(itos[i] for i in context), '--->', itos[index])\n",
    "            context = context[1:] + [index] # crop and append\n",
    "\n",
    "    X = torch.tensor(X)\n",
    "    Y = torch.tensor(Y)\n",
    "    print(X.shape, Y.shape)\n",
    "    return X,Y\n",
    "\n",
    "import random\n",
    "random.seed(42)\n",
    "random.shuffle(words)\n",
    "n1 = int(0.8 * len(words))\n",
    "n2 = int(0.9 * len(words))\n",
    "\n",
    "Xtr, Ytr = build_dataset(words[:n1])\n",
    "Xdev, Ydev = build_dataset(words[n1:n2])\n",
    "Xte, Yte = build_dataset(words[n2:])"
   ]
  },
  {
   "cell_type": "code",
   "execution_count": 299,
   "metadata": {},
   "outputs": [
    {
     "data": {
      "text/plain": [
       "32033"
      ]
     },
     "execution_count": 299,
     "metadata": {},
     "output_type": "execute_result"
    }
   ],
   "source": [
    "len(words)"
   ]
  },
  {
   "cell_type": "code",
   "execution_count": 300,
   "metadata": {},
   "outputs": [
    {
     "data": {
      "text/plain": [
       "25626"
      ]
     },
     "execution_count": 300,
     "metadata": {},
     "output_type": "execute_result"
    }
   ],
   "source": [
    "n1 # training words"
   ]
  },
  {
   "cell_type": "code",
   "execution_count": 301,
   "metadata": {},
   "outputs": [
    {
     "data": {
      "text/plain": [
       "28829"
      ]
     },
     "execution_count": 301,
     "metadata": {},
     "output_type": "execute_result"
    }
   ],
   "source": [
    "n2"
   ]
  },
  {
   "cell_type": "code",
   "execution_count": 302,
   "metadata": {},
   "outputs": [
    {
     "data": {
      "text/plain": [
       "3203"
      ]
     },
     "execution_count": 302,
     "metadata": {},
     "output_type": "execute_result"
    }
   ],
   "source": [
    "n2-n1 # dev words "
   ]
  },
  {
   "cell_type": "code",
   "execution_count": 303,
   "metadata": {},
   "outputs": [
    {
     "data": {
      "text/plain": [
       "3204"
      ]
     },
     "execution_count": 303,
     "metadata": {},
     "output_type": "execute_result"
    }
   ],
   "source": [
    "len(words) - n2 # test words"
   ]
  },
  {
   "cell_type": "code",
   "execution_count": 304,
   "metadata": {},
   "outputs": [
    {
     "data": {
      "text/plain": [
       "(torch.Size([182437, 3]), torch.Size([182437]))"
      ]
     },
     "execution_count": 304,
     "metadata": {},
     "output_type": "execute_result"
    }
   ],
   "source": [
    "Xtr.shape, Ytr.shape"
   ]
  },
  {
   "cell_type": "code",
   "execution_count": 305,
   "metadata": {},
   "outputs": [],
   "source": [
    "g = torch.Generator().manual_seed(2147483647)\n",
    "C = torch.randn((27,2), generator = g)\n",
    "W1 = torch.randn((6, 100), generator = g)\n",
    "b1 = torch.randn(100, generator = g)\n",
    "W2 = torch.randn((100,27), generator = g)\n",
    "b2 = torch.randn(27, generator = g)\n",
    "parameters = [C, W1, b1, W2, b2]"
   ]
  },
  {
   "cell_type": "code",
   "execution_count": 306,
   "metadata": {},
   "outputs": [
    {
     "data": {
      "text/plain": [
       "3481"
      ]
     },
     "execution_count": 306,
     "metadata": {},
     "output_type": "execute_result"
    }
   ],
   "source": [
    "sum(p.nelement() for p in parameters)"
   ]
  },
  {
   "cell_type": "code",
   "execution_count": 307,
   "metadata": {},
   "outputs": [],
   "source": [
    "# requires grad for parameters to be true \n",
    "\n",
    "for p in parameters:\n",
    "    p.requires_grad = True"
   ]
  },
  {
   "cell_type": "code",
   "execution_count": 317,
   "metadata": {},
   "outputs": [],
   "source": [
    "# reruning now with the 0.1 lr and for no of iterations\n",
    "\n",
    "# rerunnning the weights again here from top-\n",
    "\n",
    "lri = []\n",
    "lossi = []\n",
    "\n",
    "for i in range(10000): \n",
    "    \n",
    "    # minibatch construct\n",
    "    ix = torch.randint(0, Xtr.shape[0], (32,))\n",
    "    \n",
    "    # forward pass \n",
    "    emb = C[Xtr[ix]] # [228146,3,2]\n",
    "    h = torch.tanh(emb.view(-1,6) @ W1 + b1) #(228146,100)\n",
    "    logits = h @ W2 + b2 # (228146, 27)\n",
    "    loss = F.cross_entropy(logits, Ytr[ix])\n",
    "#     print(loss.item())\n",
    "\n",
    "    \n",
    "    # backward pass \n",
    "    for p in parameters:\n",
    "        p.grad = None\n",
    "\n",
    "    loss.backward()\n",
    "    \n",
    "    #dynamic lr\n",
    "    #lr = lrs[i]\n",
    "    lr = 0.01\n",
    "    \n",
    "    #update\n",
    "    for p in parameters:\n",
    "        p.data += -lr * p.grad\n",
    "        \n",
    "        \n",
    "#     # track stats\n",
    "#     lri.append(lre[i])\n",
    "#     lossi.append(loss.item())\n"
   ]
  },
  {
   "cell_type": "code",
   "execution_count": 318,
   "metadata": {},
   "outputs": [
    {
     "name": "stdout",
     "output_type": "stream",
     "text": [
      "2.272547960281372\n"
     ]
    }
   ],
   "source": [
    "print(loss.item())"
   ]
  },
  {
   "cell_type": "code",
   "execution_count": 320,
   "metadata": {},
   "outputs": [
    {
     "data": {
      "text/plain": [
       "tensor(2.3347, grad_fn=<NllLossBackward0>)"
      ]
     },
     "execution_count": 320,
     "metadata": {},
     "output_type": "execute_result"
    }
   ],
   "source": [
    "#overall loss for training dataset\n",
    "\n",
    "emb = C[Xtr] # [228146,3,2]\n",
    "h = torch.tanh(emb.view(-1,6) @ W1 + b1) #(228146,100)\n",
    "logits = h @ W2 + b2 # (228146, 27)\n",
    "loss = F.cross_entropy(logits, Ytr)\n",
    "loss"
   ]
  },
  {
   "cell_type": "code",
   "execution_count": 319,
   "metadata": {},
   "outputs": [
    {
     "data": {
      "text/plain": [
       "tensor(2.3536, grad_fn=<NllLossBackward0>)"
      ]
     },
     "execution_count": 319,
     "metadata": {},
     "output_type": "execute_result"
    }
   ],
   "source": [
    "#overall loss for dev dataset\n",
    "\n",
    "emb = C[Xdev] # [228146,3,2]\n",
    "h = torch.tanh(emb.view(-1,6) @ W1 + b1) #(228146,100)\n",
    "logits = h @ W2 + b2 # (228146, 27)\n",
    "loss = F.cross_entropy(logits, Ydev)\n",
    "loss"
   ]
  },
  {
   "cell_type": "markdown",
   "metadata": {},
   "source": [
    "we can see these two losses are nearly equal so we are not overfitting, this is called underfitting as these are roughly equal this means network is very tiny means parameters are less"
   ]
  },
  {
   "cell_type": "markdown",
   "metadata": {},
   "source": [
    "#### making the network bigger now, increasing no of parameters in hidden layer"
   ]
  },
  {
   "cell_type": "code",
   "execution_count": 321,
   "metadata": {},
   "outputs": [],
   "source": [
    "# easiest way to do that is to pump the hidden layer neurons, we changed it from 100 to 300\n",
    "\n",
    "g = torch.Generator().manual_seed(2147483647)\n",
    "C = torch.randn((27,2), generator = g)\n",
    "W1 = torch.randn((6, 300), generator = g)\n",
    "b1 = torch.randn(300, generator = g)\n",
    "W2 = torch.randn((300,27), generator = g)\n",
    "b2 = torch.randn(27, generator = g)\n",
    "parameters = [C, W1, b1, W2, b2]"
   ]
  },
  {
   "cell_type": "code",
   "execution_count": 322,
   "metadata": {},
   "outputs": [
    {
     "data": {
      "text/plain": [
       "10281"
      ]
     },
     "execution_count": 322,
     "metadata": {},
     "output_type": "execute_result"
    }
   ],
   "source": [
    "sum(p.nelement() for p in parameters)"
   ]
  },
  {
   "cell_type": "code",
   "execution_count": 323,
   "metadata": {},
   "outputs": [],
   "source": [
    "# requires grad for parameters to be true \n",
    "\n",
    "for p in parameters:\n",
    "    p.requires_grad = True"
   ]
  },
  {
   "cell_type": "code",
   "execution_count": 324,
   "metadata": {},
   "outputs": [],
   "source": [
    "## stats variables \n",
    "\n",
    "\n",
    "lri = []\n",
    "lossi = []\n",
    "stepi = []"
   ]
  },
  {
   "cell_type": "code",
   "execution_count": 345,
   "metadata": {},
   "outputs": [],
   "source": [
    "# reruning now with the 0.1 lr and for no of iterations\n",
    "\n",
    "# rerunnning the weights again here from top-\n",
    "\n",
    "for i in range(30000): \n",
    "    \n",
    "    # minibatch construct\n",
    "    ix = torch.randint(0, Xtr.shape[0], (32,))\n",
    "    \n",
    "    # forward pass \n",
    "    emb = C[Xtr[ix]] # [228146,3,2]\n",
    "    h = torch.tanh(emb.view(-1,6) @ W1 + b1) #(228146,100)\n",
    "    logits = h @ W2 + b2 # (228146, 27)\n",
    "    loss = F.cross_entropy(logits, Ytr[ix])\n",
    "    #print(loss.item())\n",
    "\n",
    "    \n",
    "    # backward pass \n",
    "    for p in parameters:\n",
    "        p.grad = None\n",
    "    loss.backward()\n",
    "    \n",
    "    #dynamic lr\n",
    "    #lr = lrs[i]\n",
    "    lr = 0.01\n",
    "    \n",
    "    #update\n",
    "    for p in parameters:\n",
    "        p.data += -lr * p.grad\n",
    "        \n",
    "        \n",
    "    # track stats\n",
    "    #lri.append(lre[i])\n",
    "    stepi.append(i)\n",
    "    lossi.append(loss.item())"
   ]
  },
  {
   "cell_type": "code",
   "execution_count": 346,
   "metadata": {},
   "outputs": [
    {
     "data": {
      "text/plain": [
       "[<matplotlib.lines.Line2D at 0x13089c1c0>]"
      ]
     },
     "execution_count": 346,
     "metadata": {},
     "output_type": "execute_result"
    },
    {
     "data": {
      "image/png": "[encoded data removed]",
      "text/plain": [
       "<Figure size 640x480 with 1 Axes>"
      ]
     },
     "metadata": {},
     "output_type": "display_data"
    }
   ],
   "source": [
    "plt.plot(stepi, lossi)"
   ]
  },
  {
   "cell_type": "code",
   "execution_count": 347,
   "metadata": {},
   "outputs": [
    {
     "data": {
      "text/plain": [
       "tensor(2.2342, grad_fn=<NllLossBackward0>)"
      ]
     },
     "execution_count": 347,
     "metadata": {},
     "output_type": "execute_result"
    }
   ],
   "source": [
    "#overall loss for training dataset\n",
    "\n",
    "emb = C[Xtr] # [228146,3,2]\n",
    "h = torch.tanh(emb.view(-1,6) @ W1 + b1) #(228146,100)\n",
    "logits = h @ W2 + b2 # (228146, 27)\n",
    "loss = F.cross_entropy(logits, Ytr)\n",
    "loss"
   ]
  },
  {
   "cell_type": "code",
   "execution_count": 348,
   "metadata": {},
   "outputs": [
    {
     "data": {
      "text/plain": [
       "tensor(2.2631, grad_fn=<NllLossBackward0>)"
      ]
     },
     "execution_count": 348,
     "metadata": {},
     "output_type": "execute_result"
    }
   ],
   "source": [
    "#overall loss for dev dataset\n",
    "\n",
    "emb = C[Xdev] # [228146,3,2]\n",
    "h = torch.tanh(emb.view(-1,6) @ W1 + b1) #(228146,100)\n",
    "logits = h @ W2 + b2 # (228146, 27)\n",
    "loss = F.cross_entropy(logits, Ydev)\n",
    "loss"
   ]
  },
  {
   "cell_type": "code",
   "execution_count": 349,
   "metadata": {},
   "outputs": [
    {
     "data": {
      "image/png": "[encoded data removed]",
      "text/plain": [
       "<Figure size 800x800 with 1 Axes>"
      ]
     },
     "metadata": {},
     "output_type": "display_data"
    }
   ],
   "source": [
    "# visualize dimensions 0 and 1 of the embedding matrix C for all characters\n",
    "plt.figure(figsize=(8,8))\n",
    "plt.scatter(C[:,0].data, C[:,1].data, s=200)\n",
    "for i in range(C.shape[0]):\n",
    "    plt.text(C[i,0].item(), C[i,1].item(), itos[i], ha=\"center\", va=\"center\", color='white')\n",
    "plt.grid('minor')"
   ]
  },
  {
   "cell_type": "markdown",
   "metadata": {},
   "source": [
    "### as we saw that these were 2D embeddings and the loss was not improving that much so now we have to increase the size of the embedding \n",
    "\n",
    "#### Larger embedding size"
   ]
  },
  {
   "cell_type": "code",
   "execution_count": 369,
   "metadata": {},
   "outputs": [],
   "source": [
    "g = torch.Generator().manual_seed(2147483647)\n",
    "C = torch.randn((27,10), generator = g)\n",
    "W1 = torch.randn((30, 200), generator = g)\n",
    "b1 = torch.randn(200, generator = g)\n",
    "W2 = torch.randn((200,27), generator = g)\n",
    "b2 = torch.randn(27, generator = g)\n",
    "parameters = [C, W1, b1, W2, b2]"
   ]
  },
  {
   "cell_type": "code",
   "execution_count": 370,
   "metadata": {},
   "outputs": [
    {
     "data": {
      "text/plain": [
       "11897"
      ]
     },
     "execution_count": 370,
     "metadata": {},
     "output_type": "execute_result"
    }
   ],
   "source": [
    "#no of parameters\n",
    "sum(p.nelement() for p in parameters)"
   ]
  },
  {
   "cell_type": "code",
   "execution_count": 371,
   "metadata": {},
   "outputs": [],
   "source": [
    "# requires grad for parameters to be true \n",
    "\n",
    "for p in parameters:\n",
    "    p.requires_grad = True"
   ]
  },
  {
   "cell_type": "code",
   "execution_count": 372,
   "metadata": {},
   "outputs": [],
   "source": [
    "## stats variables \n",
    "\n",
    "lri = []\n",
    "lossi = []\n",
    "stepi = []"
   ]
  },
  {
   "cell_type": "code",
   "execution_count": 373,
   "metadata": {},
   "outputs": [],
   "source": [
    "for i in range(2000000): \n",
    "    \n",
    "    # minibatch construct\n",
    "    ix = torch.randint(0, Xtr.shape[0], (32,))\n",
    "    \n",
    "    # forward pass \n",
    "    emb = C[Xtr[ix]] # [228146,3,2]\n",
    "    h = torch.tanh(emb.view(-1,30) @ W1 + b1) #(228146,100)\n",
    "    logits = h @ W2 + b2 # (228146, 27)\n",
    "    loss = F.cross_entropy(logits, Ytr[ix])\n",
    "    #print(loss.item())\n",
    "\n",
    "    \n",
    "    # backward pass \n",
    "    for p in parameters:\n",
    "        p.grad = None\n",
    "    loss.backward()\n",
    "    \n",
    "    #dynamic lr\n",
    "    #lr = lrs[i]\n",
    "    lr = 0.1 if i < 1000000 else 0.01\n",
    "    \n",
    "    #update\n",
    "    for p in parameters:\n",
    "        p.data += -lr * p.grad\n",
    "        \n",
    "        \n",
    "    # track stats\n",
    "    #lri.append(lre[i])\n",
    "    stepi.append(i)\n",
    "    lossi.append(loss.log10().item())"
   ]
  },
  {
   "cell_type": "code",
   "execution_count": 374,
   "metadata": {},
   "outputs": [
    {
     "data": {
      "text/plain": [
       "[<matplotlib.lines.Line2D at 0x137a10070>]"
      ]
     },
     "execution_count": 374,
     "metadata": {},
     "output_type": "execute_result"
    },
    {
     "data": {
      "image/png": "[encoded data removed]",
      "text/plain": [
       "<Figure size 640x480 with 1 Axes>"
      ]
     },
     "metadata": {},
     "output_type": "display_data"
    }
   ],
   "source": [
    "plt.plot(stepi, lossi)"
   ]
  },
  {
   "cell_type": "code",
   "execution_count": 375,
   "metadata": {},
   "outputs": [
    {
     "data": {
      "text/plain": [
       "tensor(2.0165, grad_fn=<NllLossBackward0>)"
      ]
     },
     "execution_count": 375,
     "metadata": {},
     "output_type": "execute_result"
    }
   ],
   "source": [
    "#overall loss for training dataset\n",
    "\n",
    "emb = C[Xtr] # [228146,3,2]\n",
    "h = torch.tanh(emb.view(-1,30) @ W1 + b1) #(228146,100)\n",
    "logits = h @ W2 + b2 # (228146, 27)\n",
    "loss = F.cross_entropy(logits, Ytr)\n",
    "loss"
   ]
  },
  {
   "cell_type": "code",
   "execution_count": 376,
   "metadata": {},
   "outputs": [
    {
     "data": {
      "text/plain": [
       "tensor(2.1342, grad_fn=<NllLossBackward0>)"
      ]
     },
     "execution_count": 376,
     "metadata": {},
     "output_type": "execute_result"
    }
   ],
   "source": [
    "#overall loss for dev dataset\n",
    "\n",
    "emb = C[Xdev] # [228146,3,2]\n",
    "h = torch.tanh(emb.view(-1,30) @ W1 + b1) #(228146,100)\n",
    "logits = h @ W2 + b2 # (228146, 27)\n",
    "loss = F.cross_entropy(logits, Ydev)\n",
    "loss"
   ]
  },
  {
   "cell_type": "code",
   "execution_count": 377,
   "metadata": {},
   "outputs": [
    {
     "name": "stdout",
     "output_type": "stream",
     "text": [
      "carman.\n",
      "amelle.\n",
      "khyimilia.\n",
      "atlanna.\n",
      "sane.\n",
      "mahnen.\n",
      "delynn.\n",
      "pareei.\n",
      "neemari.\n",
      "chaiinder.\n",
      "evy.\n",
      "dhymphois.\n",
      "quinte.\n",
      "roixes.\n",
      "vid.\n",
      "quinte.\n",
      "madiarystin.\n",
      "cecillsa.\n",
      "med.\n",
      "edi.\n"
     ]
    }
   ],
   "source": [
    "# sample from the model\n",
    "\n",
    "\n",
    "g = torch.Generator().manual_seed(2147483647 + 10)\n",
    "\n",
    "for _ in range(20):\n",
    "    \n",
    "    out = []\n",
    "    context =  [0] * block_size # inintialze with all '...'\n",
    "    while True:\n",
    "        emb = C[torch.tensor([context])] # (1, block_size, d)\n",
    "        h = torch.tanh(emb.view(1, -1) @ W1 + b1)\n",
    "        logits = h @ W2 + b2\n",
    "        probs = F.softmax(logits, dim = 1)\n",
    "        ix = torch.multinomial(probs, num_samples=1, generator=g).item()\n",
    "        context = context[1:] + [ix]\n",
    "        out.append(ix)\n",
    "        \n",
    "        if ix == 0:\n",
    "            break\n",
    "        \n",
    "    \n",
    "    print(\"\".join(itos[i] for i in out))\n",
    "        "
   ]
  },
  {
   "cell_type": "code",
   "execution_count": null,
   "metadata": {},
   "outputs": [],
   "source": []
  },
  {
   "cell_type": "code",
   "execution_count": null,
   "metadata": {},
   "outputs": [],
   "source": []
  }
 ],
 "metadata": {
  "kernelspec": {
   "display_name": "Python 3 (ipykernel)",
   "language": "python",
   "name": "python3"
  },
  "language_info": {
   "codemirror_mode": {
    "name": "ipython",
    "version": 3
   },
   "file_extension": ".py",
   "mimetype": "text/x-python",
   "name": "python",
   "nbconvert_exporter": "python",
   "pygments_lexer": "ipython3",
   "version": "3.9.6"
  }
 },
 "nbformat": 4,
 "nbformat_minor": 2
}
